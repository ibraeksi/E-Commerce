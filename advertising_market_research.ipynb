{
 "cells": [
  {
   "cell_type": "markdown",
   "metadata": {},
   "source": [
    "# Advertising in E-Learning"
   ]
  },
  {
   "cell_type": "markdown",
   "metadata": {},
   "source": [
    "## Motivation"
   ]
  },
  {
   "cell_type": "markdown",
   "metadata": {},
   "source": [
    "The last couple of years have required people to turn to e-learning in order to improve themselves personally and professionally. This popularity has provided the e-learning companies a lot of room for expansion. In this project, we will be working for a hypothetical company that offers courses in programming with subjects such as web and mobile development and data science. The managers have asked us to come up with the two best markets to invest in advertisement."
   ]
  },
  {
   "cell_type": "markdown",
   "metadata": {},
   "source": [
    "## Data Collection"
   ]
  },
  {
   "cell_type": "markdown",
   "metadata": {},
   "source": [
    "The key questions to answer in our decision-making will be:\n",
    "* The types of courses potential customers want to study\n",
    "* The range of money that the customers are willing to spend\n",
    "* The region where most learners can be acquired\n",
    "* The profile of potential learners including family and job status\n",
    "\n",
    "The required data to answer these questions could be acquired by conducting surveys in select markets, which would be costly and time-consuming. One alternative is to look for existing datasets online that would be relevant for our goals. An ideal solution is the \"New Coder Survey\" that freeCodeCamp conducted in 2017:\n",
    "\n",
    "https://www.freecodecamp.org/news/we-asked-20-000-people-who-they-are-and-how-theyre-learning-to-code-fff5d668969/\n",
    "\n",
    "freeCodeCamp is a free e-learning platform with a popular Medium publication (over 400,000 followers), which is why their survey attracted new coders with varying interests making it ideal for the purpose of our analysis. The dataset is publicly available on:\n",
    "\n",
    "https://github.com/freeCodeCamp/2017-new-coder-survey"
   ]
  },
  {
   "cell_type": "code",
   "execution_count": 1,
   "metadata": {},
   "outputs": [
    {
     "data": {
      "text/plain": [
       "(18175, 136)"
      ]
     },
     "execution_count": 1,
     "metadata": {},
     "output_type": "execute_result"
    }
   ],
   "source": [
    "import pandas as pd\n",
    "fcc = pd.read_csv('2017-fCC-New-Coders-Survey-Data.csv', low_memory=0)\n",
    "fcc.shape"
   ]
  },
  {
   "cell_type": "code",
   "execution_count": 2,
   "metadata": {},
   "outputs": [
    {
     "data": {
      "text/html": [
       "<div>\n",
       "<style scoped>\n",
       "    .dataframe tbody tr th:only-of-type {\n",
       "        vertical-align: middle;\n",
       "    }\n",
       "\n",
       "    .dataframe tbody tr th {\n",
       "        vertical-align: top;\n",
       "    }\n",
       "\n",
       "    .dataframe thead th {\n",
       "        text-align: right;\n",
       "    }\n",
       "</style>\n",
       "<table border=\"1\" class=\"dataframe\">\n",
       "  <thead>\n",
       "    <tr style=\"text-align: right;\">\n",
       "      <th></th>\n",
       "      <th>Age</th>\n",
       "      <th>AttendedBootcamp</th>\n",
       "      <th>BootcampFinish</th>\n",
       "      <th>BootcampLoanYesNo</th>\n",
       "      <th>BootcampName</th>\n",
       "      <th>BootcampRecommend</th>\n",
       "      <th>ChildrenNumber</th>\n",
       "      <th>CityPopulation</th>\n",
       "      <th>CodeEventConferences</th>\n",
       "      <th>CodeEventDjangoGirls</th>\n",
       "      <th>...</th>\n",
       "      <th>YouTubeFCC</th>\n",
       "      <th>YouTubeFunFunFunction</th>\n",
       "      <th>YouTubeGoogleDev</th>\n",
       "      <th>YouTubeLearnCode</th>\n",
       "      <th>YouTubeLevelUpTuts</th>\n",
       "      <th>YouTubeMIT</th>\n",
       "      <th>YouTubeMozillaHacks</th>\n",
       "      <th>YouTubeOther</th>\n",
       "      <th>YouTubeSimplilearn</th>\n",
       "      <th>YouTubeTheNewBoston</th>\n",
       "    </tr>\n",
       "  </thead>\n",
       "  <tbody>\n",
       "    <tr>\n",
       "      <th>0</th>\n",
       "      <td>27.0</td>\n",
       "      <td>0.0</td>\n",
       "      <td>NaN</td>\n",
       "      <td>NaN</td>\n",
       "      <td>NaN</td>\n",
       "      <td>NaN</td>\n",
       "      <td>NaN</td>\n",
       "      <td>more than 1 million</td>\n",
       "      <td>NaN</td>\n",
       "      <td>NaN</td>\n",
       "      <td>...</td>\n",
       "      <td>NaN</td>\n",
       "      <td>NaN</td>\n",
       "      <td>NaN</td>\n",
       "      <td>NaN</td>\n",
       "      <td>NaN</td>\n",
       "      <td>NaN</td>\n",
       "      <td>NaN</td>\n",
       "      <td>NaN</td>\n",
       "      <td>NaN</td>\n",
       "      <td>NaN</td>\n",
       "    </tr>\n",
       "    <tr>\n",
       "      <th>1</th>\n",
       "      <td>34.0</td>\n",
       "      <td>0.0</td>\n",
       "      <td>NaN</td>\n",
       "      <td>NaN</td>\n",
       "      <td>NaN</td>\n",
       "      <td>NaN</td>\n",
       "      <td>NaN</td>\n",
       "      <td>less than 100,000</td>\n",
       "      <td>NaN</td>\n",
       "      <td>NaN</td>\n",
       "      <td>...</td>\n",
       "      <td>1.0</td>\n",
       "      <td>NaN</td>\n",
       "      <td>NaN</td>\n",
       "      <td>NaN</td>\n",
       "      <td>NaN</td>\n",
       "      <td>NaN</td>\n",
       "      <td>NaN</td>\n",
       "      <td>NaN</td>\n",
       "      <td>NaN</td>\n",
       "      <td>NaN</td>\n",
       "    </tr>\n",
       "    <tr>\n",
       "      <th>2</th>\n",
       "      <td>21.0</td>\n",
       "      <td>0.0</td>\n",
       "      <td>NaN</td>\n",
       "      <td>NaN</td>\n",
       "      <td>NaN</td>\n",
       "      <td>NaN</td>\n",
       "      <td>NaN</td>\n",
       "      <td>more than 1 million</td>\n",
       "      <td>NaN</td>\n",
       "      <td>NaN</td>\n",
       "      <td>...</td>\n",
       "      <td>NaN</td>\n",
       "      <td>NaN</td>\n",
       "      <td>NaN</td>\n",
       "      <td>1.0</td>\n",
       "      <td>1.0</td>\n",
       "      <td>NaN</td>\n",
       "      <td>NaN</td>\n",
       "      <td>NaN</td>\n",
       "      <td>NaN</td>\n",
       "      <td>NaN</td>\n",
       "    </tr>\n",
       "    <tr>\n",
       "      <th>3</th>\n",
       "      <td>26.0</td>\n",
       "      <td>0.0</td>\n",
       "      <td>NaN</td>\n",
       "      <td>NaN</td>\n",
       "      <td>NaN</td>\n",
       "      <td>NaN</td>\n",
       "      <td>NaN</td>\n",
       "      <td>between 100,000 and 1 million</td>\n",
       "      <td>NaN</td>\n",
       "      <td>NaN</td>\n",
       "      <td>...</td>\n",
       "      <td>1.0</td>\n",
       "      <td>1.0</td>\n",
       "      <td>NaN</td>\n",
       "      <td>NaN</td>\n",
       "      <td>1.0</td>\n",
       "      <td>NaN</td>\n",
       "      <td>NaN</td>\n",
       "      <td>NaN</td>\n",
       "      <td>NaN</td>\n",
       "      <td>NaN</td>\n",
       "    </tr>\n",
       "    <tr>\n",
       "      <th>4</th>\n",
       "      <td>20.0</td>\n",
       "      <td>0.0</td>\n",
       "      <td>NaN</td>\n",
       "      <td>NaN</td>\n",
       "      <td>NaN</td>\n",
       "      <td>NaN</td>\n",
       "      <td>NaN</td>\n",
       "      <td>between 100,000 and 1 million</td>\n",
       "      <td>NaN</td>\n",
       "      <td>NaN</td>\n",
       "      <td>...</td>\n",
       "      <td>NaN</td>\n",
       "      <td>NaN</td>\n",
       "      <td>NaN</td>\n",
       "      <td>NaN</td>\n",
       "      <td>NaN</td>\n",
       "      <td>NaN</td>\n",
       "      <td>NaN</td>\n",
       "      <td>NaN</td>\n",
       "      <td>NaN</td>\n",
       "      <td>NaN</td>\n",
       "    </tr>\n",
       "  </tbody>\n",
       "</table>\n",
       "<p>5 rows × 136 columns</p>\n",
       "</div>"
      ],
      "text/plain": [
       "    Age  AttendedBootcamp  BootcampFinish  BootcampLoanYesNo BootcampName  \\\n",
       "0  27.0               0.0             NaN                NaN          NaN   \n",
       "1  34.0               0.0             NaN                NaN          NaN   \n",
       "2  21.0               0.0             NaN                NaN          NaN   \n",
       "3  26.0               0.0             NaN                NaN          NaN   \n",
       "4  20.0               0.0             NaN                NaN          NaN   \n",
       "\n",
       "   BootcampRecommend  ChildrenNumber                 CityPopulation  \\\n",
       "0                NaN             NaN            more than 1 million   \n",
       "1                NaN             NaN              less than 100,000   \n",
       "2                NaN             NaN            more than 1 million   \n",
       "3                NaN             NaN  between 100,000 and 1 million   \n",
       "4                NaN             NaN  between 100,000 and 1 million   \n",
       "\n",
       "   CodeEventConferences  CodeEventDjangoGirls  ...  YouTubeFCC  \\\n",
       "0                   NaN                   NaN  ...         NaN   \n",
       "1                   NaN                   NaN  ...         1.0   \n",
       "2                   NaN                   NaN  ...         NaN   \n",
       "3                   NaN                   NaN  ...         1.0   \n",
       "4                   NaN                   NaN  ...         NaN   \n",
       "\n",
       "   YouTubeFunFunFunction  YouTubeGoogleDev  YouTubeLearnCode  \\\n",
       "0                    NaN               NaN               NaN   \n",
       "1                    NaN               NaN               NaN   \n",
       "2                    NaN               NaN               1.0   \n",
       "3                    1.0               NaN               NaN   \n",
       "4                    NaN               NaN               NaN   \n",
       "\n",
       "   YouTubeLevelUpTuts  YouTubeMIT  YouTubeMozillaHacks YouTubeOther  \\\n",
       "0                 NaN         NaN                  NaN          NaN   \n",
       "1                 NaN         NaN                  NaN          NaN   \n",
       "2                 1.0         NaN                  NaN          NaN   \n",
       "3                 1.0         NaN                  NaN          NaN   \n",
       "4                 NaN         NaN                  NaN          NaN   \n",
       "\n",
       "   YouTubeSimplilearn  YouTubeTheNewBoston  \n",
       "0                 NaN                  NaN  \n",
       "1                 NaN                  NaN  \n",
       "2                 NaN                  NaN  \n",
       "3                 NaN                  NaN  \n",
       "4                 NaN                  NaN  \n",
       "\n",
       "[5 rows x 136 columns]"
      ]
     },
     "execution_count": 2,
     "metadata": {},
     "output_type": "execute_result"
    }
   ],
   "source": [
    "fcc.head()"
   ]
  },
  {
   "cell_type": "markdown",
   "metadata": {},
   "source": [
    "As seen, most column names are self-explanatory, but due to the nature of the questions, there are lots of missing values."
   ]
  },
  {
   "cell_type": "code",
   "execution_count": 3,
   "metadata": {},
   "outputs": [
    {
     "data": {
      "text/plain": [
       "Age                    15.0\n",
       "AttendedBootcamp        3.0\n",
       "BootcampFinish         94.0\n",
       "BootcampLoanYesNo      94.0\n",
       "BootcampName           95.0\n",
       "                       ... \n",
       "YouTubeMIT             82.0\n",
       "YouTubeMozillaHacks    97.0\n",
       "YouTubeOther           93.0\n",
       "YouTubeSimplilearn     99.0\n",
       "YouTubeTheNewBoston    84.0\n",
       "Length: 136, dtype: float64"
      ]
     },
     "execution_count": 3,
     "metadata": {},
     "output_type": "execute_result"
    }
   ],
   "source": [
    "round(fcc.isnull().sum()*100/len(fcc),0)"
   ]
  },
  {
   "cell_type": "code",
   "execution_count": 4,
   "metadata": {},
   "outputs": [
    {
     "data": {
      "text/plain": [
       "80"
      ]
     },
     "execution_count": 4,
     "metadata": {},
     "output_type": "execute_result"
    }
   ],
   "source": [
    "len(fcc.isnull().sum()[round(fcc.isnull().sum()*100/len(fcc),0) > 80])"
   ]
  },
  {
   "cell_type": "markdown",
   "metadata": {},
   "source": [
    "In fact, 80 of the 136 columns have more than 80% of missing values meaning we can do a good amount of cleaning before working on the data. Before proceeding with the dataset, we need to check if the sample data is representative for our purpose. "
   ]
  },
  {
   "cell_type": "markdown",
   "metadata": {},
   "source": [
    "## Sample Representativeness"
   ]
  },
  {
   "cell_type": "markdown",
   "metadata": {},
   "source": [
    "As we mentioned earlier, most of the courses we offer are on web and mobile development, but we also cover many other domains, like data science, game development, etc. So we can check what kind of careers the potential learners are interested in:"
   ]
  },
  {
   "cell_type": "code",
   "execution_count": 5,
   "metadata": {},
   "outputs": [
    {
     "data": {
      "text/plain": [
       "Full-Stack Web Developer                                                                                            11.770595\n",
       "  Front-End Web Developer                                                                                            6.435927\n",
       "  Data Scientist                                                                                                     2.173913\n",
       "Back-End Web Developer                                                                                               2.030892\n",
       "  Mobile Developer                                                                                                   1.673341\n",
       "                                                                                                                      ...    \n",
       "  Data Scientist, Game Developer, Data Engineer                                                                      0.014302\n",
       "Game Developer, Back-End Web Developer,   Mobile Developer, Full-Stack Web Developer                                 0.014302\n",
       "Game Developer, Information Security,   User Experience Designer,   Front-End Web Developer                          0.014302\n",
       "  Quality Assurance Engineer,   Product Manager,   Mobile Developer, Information Security,   Data Scientist          0.014302\n",
       "  Data Scientist, Full-Stack Web Developer,   User Experience Designer, Data Engineer,   Front-End Web Developer     0.014302\n",
       "Name: JobRoleInterest, Length: 3213, dtype: float64"
      ]
     },
     "execution_count": 5,
     "metadata": {},
     "output_type": "execute_result"
    }
   ],
   "source": [
    "# Frequency distribution table for 'JobRoleInterest'\n",
    "fcc['JobRoleInterest'].value_counts(normalize = True) * 100"
   ]
  },
  {
   "cell_type": "markdown",
   "metadata": {},
   "source": [
    "As seen, many people are interested in multiple different options, which makes them likely to enroll in multiple courses. We can check how many people are interested in at least one of web and mobile development, as they are the main focus of the company:"
   ]
  },
  {
   "cell_type": "code",
   "execution_count": 6,
   "metadata": {},
   "outputs": [
    {
     "name": "stdout",
     "output_type": "stream",
     "text": [
      "True     86.241419\n",
      "False    13.758581\n",
      "Name: JobRoleInterest, dtype: float64\n"
     ]
    },
    {
     "data": {
      "image/png": "[encoded data removed]",
      "text/plain": [
       "<Figure size 432x288 with 1 Axes>"
      ]
     },
     "metadata": {},
     "output_type": "display_data"
    }
   ],
   "source": [
    "# Split each string in the 'JobRoleInterest' column\n",
    "interests_no_nulls = fcc['JobRoleInterest'].dropna()\n",
    "\n",
    "# Frequency table\n",
    "web_or_mobile = interests_no_nulls.str.contains(\n",
    "    'Web Developer|Mobile Developer') # returns an array of booleans\n",
    "freq_table = web_or_mobile.value_counts(normalize = True) * 100\n",
    "print(freq_table)\n",
    "\n",
    "# Graph for the frequency table above\n",
    "%matplotlib inline\n",
    "import matplotlib.pyplot as plt\n",
    "plt.style.use('fivethirtyeight')\n",
    "\n",
    "freq_table.plot.bar()\n",
    "plt.title('Most Participants are Interested in \\nWeb or Mobile Development',\n",
    "          y = 1.08) # y pads the title upward\n",
    "plt.ylabel('Percentage', fontsize = 12)\n",
    "plt.xticks([0,1],['Web or mobile\\ndevelopment', 'Other subject'],\n",
    "           rotation = 0) # the initial xtick labels were True and False\n",
    "plt.ylim([0,100])\n",
    "plt.show()"
   ]
  },
  {
   "cell_type": "markdown",
   "metadata": {},
   "source": [
    "As seen, the majority (86%) are interested in web or mobile development positions, either as the only preferred job or one of several. This proves that the sample data is representative for the target audience of our e-learning company as the objective is to advertise our courses to people interested mostly in web and mobile development."
   ]
  },
  {
   "cell_type": "markdown",
   "metadata": {},
   "source": [
    "## Data Cleaning"
   ]
  },
  {
   "cell_type": "markdown",
   "metadata": {},
   "source": [
    "We have seen in the previous step that most of the dataset consists of null values due to the nature of the survey questions. Moving forward, we can keep only the columns that we require to answer the questions regarding budget, region and biographical data:"
   ]
  },
  {
   "cell_type": "code",
   "execution_count": 7,
   "metadata": {},
   "outputs": [],
   "source": [
    "fcc = fcc[['Age', 'AttendedBootcamp', 'CountryCitizen', 'CountryLive', \n",
    "           'EmploymentField', 'EmploymentStatus', 'Gender', 'HasChildren', \n",
    "           'HasDebt', 'HasFinancialDependents', 'HasHomeMortgage', \n",
    "           'HasStudentDebt', 'HoursLearning', 'Income', 'JobRoleInterest',\n",
    "           'MaritalStatus', 'MoneyForLearning', 'MonthsProgramming', \n",
    "           'SchoolDegree', 'SchoolMajor']]"
   ]
  },
  {
   "cell_type": "markdown",
   "metadata": {},
   "source": [
    "The remaining columns have the following missing values:"
   ]
  },
  {
   "cell_type": "code",
   "execution_count": 8,
   "metadata": {},
   "outputs": [
    {
     "data": {
      "text/plain": [
       "Age                       15.0\n",
       "AttendedBootcamp           3.0\n",
       "CountryCitizen            15.0\n",
       "CountryLive               16.0\n",
       "EmploymentField           55.0\n",
       "EmploymentStatus          21.0\n",
       "Gender                    15.0\n",
       "HasChildren               79.0\n",
       "HasDebt                   16.0\n",
       "HasFinancialDependents    16.0\n",
       "HasHomeMortgage           65.0\n",
       "HasStudentDebt            65.0\n",
       "HoursLearning              8.0\n",
       "Income                    58.0\n",
       "JobRoleInterest           62.0\n",
       "MaritalStatus             16.0\n",
       "MoneyForLearning           9.0\n",
       "MonthsProgramming          6.0\n",
       "SchoolDegree              15.0\n",
       "SchoolMajor               52.0\n",
       "dtype: float64"
      ]
     },
     "execution_count": 8,
     "metadata": {},
     "output_type": "execute_result"
    }
   ],
   "source": [
    "round(fcc.isnull().sum()*100/len(fcc),0)"
   ]
  },
  {
   "cell_type": "markdown",
   "metadata": {},
   "source": [
    "As seen, there are still some features with more than 50% missing values as a result of the respondents choosing not to provide any information or not yet having answers as in the case of JobRoleInterest. However, our questions could be answered by those features that have a lot of data available, such as MoneyforLearning and CountryLive. Therefore, we can move on with the data analysis."
   ]
  },
  {
   "cell_type": "markdown",
   "metadata": {},
   "source": [
    "## Best Markets by Country"
   ]
  },
  {
   "cell_type": "markdown",
   "metadata": {},
   "source": [
    "Let's begin with finding out where these new coders are located, and what are the densities (how many new coders there are) for each location. This should be a good start for finding out the best two markets to run our ads campaign in.\n",
    "\n",
    "The data set provides information about the location of each participant at a country level. We can think of each country as an individual market, so we can frame our goal as finding the two best countries to advertise in.\n",
    "\n",
    "We can start by examining the frequency distribution table of the CountryLive variable, which describes what country each participant lives in (not their origin country). We'll only consider those participants who answered what role(s) they're interested in, to make sure we work with a representative sample."
   ]
  },
  {
   "cell_type": "code",
   "execution_count": 9,
   "metadata": {},
   "outputs": [
    {
     "name": "stdout",
     "output_type": "stream",
     "text": [
      "                          Absolute frequency  Relative frequency\n",
      "United States of America                3125           45.700497\n",
      "India                                    528            7.721556\n",
      "United Kingdom                           315            4.606610\n",
      "Canada                                   260            3.802281\n",
      "Poland                                   131            1.915765\n",
      "Brazil                                   129            1.886517\n",
      "Germany                                  125            1.828020\n",
      "Australia                                112            1.637906\n",
      "Russia                                   102            1.491664\n",
      "Ukraine                                   89            1.301550\n"
     ]
    },
    {
     "data": {
      "image/png": "[encoded data removed]",
      "text/plain": [
       "<Figure size 720x432 with 1 Axes>"
      ]
     },
     "metadata": {},
     "output_type": "display_data"
    }
   ],
   "source": [
    "# Isolate the participants that answered what role they'd be interested in\n",
    "fcc = fcc[fcc['JobRoleInterest'].notnull()].copy()\n",
    "\n",
    "# Frequency tables with absolute and relative frequencies\n",
    "def create_freq_table(df, column, order=False):    \n",
    "    '''Creating a frequency table (both absolute and relative frequencies) \n",
    "    for a column of a dataframe, with the possibility to assign the order of the values\n",
    "    '''\n",
    "    if not order:\n",
    "        order = df[column].value_counts().index.tolist()   # the default order if not preassigned\n",
    "    abs_freq = df[column].value_counts()[order]\n",
    "    rel_freq = (df[column].value_counts(normalize = True) * 100)[order]    \n",
    "    freq_table = pd.DataFrame(data={'Absolute frequency': abs_freq, \n",
    "                                    'Relative frequency': rel_freq})\n",
    "    return freq_table\n",
    "\n",
    "def create_stem_plot(height, series, title, x_max):\n",
    "    '''Creating a vertical stem plot for a Series'''\n",
    "    fig, ax = plt.subplots(figsize=(10,height))\n",
    "    ax.hlines(y=series.index, \n",
    "              xmin=0, xmax=series, \n",
    "              color='slateblue', \n",
    "              linewidth=2)\n",
    "    ax.plot(series, series.index, \n",
    "            'o', \n",
    "            c='slateblue')\n",
    "    ax.set_title(title, fontsize=25)\n",
    "    ax.set_xlim(0,x_max)\n",
    "    ax.tick_params(axis='both', labelsize=16, left=False)\n",
    "    for side in ['top', 'right']:\n",
    "        ax.spines[side].set_visible(False)\n",
    "    plt.show()\n",
    "    return None\n",
    "\n",
    " \n",
    "# Creating a frequency table of potential customers by country    \n",
    "freq_table_countries = create_freq_table(df=fcc, column='CountryLive')\n",
    "\n",
    "print(freq_table_countries.iloc[:10,:])\n",
    "\n",
    "# Plotting TOP10 countries with their relative frequencies in %\n",
    "top_10 = freq_table_countries['Relative frequency'].iloc[:10].sort_values()\n",
    "create_stem_plot(height=6,\n",
    "                 series=top_10,\n",
    "                 title='TOP 10 countries by potential customers',\n",
    "                 x_max=55) "
   ]
  },
  {
   "cell_type": "markdown",
   "metadata": {},
   "source": [
    "About 46% of our potential customers are located in the US making it the first candidate for advertising. However, the second country is harder to identify as India (7.7%), United Kingdom (4.6%) and Canada (3.8%) are all closer to each other in terms of customer distribution. Therefore, the second decision will have to be made using the information on how much the people are actually willing to spend, as free subscriptions are not profitable for the company."
   ]
  },
  {
   "cell_type": "markdown",
   "metadata": {},
   "source": [
    "## Best Markets by Spending"
   ]
  },
  {
   "cell_type": "markdown",
   "metadata": {},
   "source": [
    "There are two features available to us describing the potential customers' willingness to spend on online learning:\n",
    "* MoneyForLearning: the amount of money spent by participants from the moment they started coding until the moment they completed the survey \n",
    "* MonthsProgramming: the number of months they had been learning programming from the moment they started till the moment they completed the survey\n",
    "\n",
    "Using these 2 features, we can find out how much each participant is willing to spend per month for learning. Our company sells subscriptions at a price of \\$59 per month, which we can use as a reference point for comparison.\n",
    "\n",
    "Furthermore, we can limit the analysis to the four countries we have identified above: the US, India, the United Kingdom, and Canada. Besides having the highest frequency and thus providing a good amount of data for analysis, these countries all have English as an official language making them suitable targets for our courses written in English.\n",
    "\n",
    "We can start with creating a new column for monthly spending. To avoid dividing by 0 that comes from new students, we'll replace 0 with 1 in the MonthsProgramming column:"
   ]
  },
  {
   "cell_type": "code",
   "execution_count": 10,
   "metadata": {},
   "outputs": [
    {
     "name": "stdout",
     "output_type": "stream",
     "text": [
      "675 missing values, or 10.0%, in the `MoneyPerMonth` column:\n"
     ]
    }
   ],
   "source": [
    "# Replace 0s with 1s in months\n",
    "fcc['MonthsProgramming'].replace(0,1, inplace = True)\n",
    "\n",
    "# New column for monthly spending\n",
    "fcc['MoneyPerMonth'] = fcc['MoneyForLearning'] / fcc['MonthsProgramming']\n",
    "fcc['MoneyPerMonth'].isnull().sum()\n",
    "\n",
    "print('{} missing values, or {}%, in the `MoneyPerMonth` column:'.format(fcc['MoneyPerMonth'].isnull().sum(), round(fcc['MoneyPerMonth'].isnull().sum()*100/len(fcc),0)))"
   ]
  },
  {
   "cell_type": "markdown",
   "metadata": {},
   "source": [
    "We can drop the rows with missing spending values:"
   ]
  },
  {
   "cell_type": "code",
   "execution_count": 11,
   "metadata": {},
   "outputs": [
    {
     "data": {
      "text/plain": [
       "United States of America    2933\n",
       "India                        463\n",
       "United Kingdom               279\n",
       "Canada                       240\n",
       "Poland                       122\n",
       "Name: CountryLive, dtype: int64"
      ]
     },
     "execution_count": 11,
     "metadata": {},
     "output_type": "execute_result"
    }
   ],
   "source": [
    "# Remove missing values\n",
    "fcc = fcc.dropna(subset=['MoneyPerMonth', 'CountryLive'])\n",
    "\n",
    "# Frequency table to check if we still have enough data\n",
    "fcc['CountryLive'].value_counts().head()"
   ]
  },
  {
   "cell_type": "markdown",
   "metadata": {},
   "source": [
    "As seen, we were able to narrow down our dataset from 18000+ down to about 4000 containing only the 4 markets we are interested in, which should be enough to identify the second best market."
   ]
  },
  {
   "cell_type": "code",
   "execution_count": 12,
   "metadata": {},
   "outputs": [
    {
     "name": "stdout",
     "output_type": "stream",
     "text": [
      "MEAN for money per month by country:\n",
      "CountryLive\n",
      "United States of America    227.997996\n",
      "India                       135.100982\n",
      "United Kingdom               45.534443\n",
      "Canada                      113.510961\n",
      "Name: MoneyPerMonth, dtype: float64\n",
      "\n",
      "MEDIAN for money per month by country:\n",
      "CountryLive\n",
      "United States of America    3.333333\n",
      "India                       0.000000\n",
      "United Kingdom              0.000000\n",
      "Canada                      0.000000\n",
      "Name: MoneyPerMonth, dtype: float64\n"
     ]
    }
   ],
   "source": [
    "# Mean sum of money spent by students each month\n",
    "countries_mean = fcc.groupby('CountryLive').mean()\n",
    "countries_mean['MoneyPerMonth'][['United States of America',\n",
    "                            'India', 'United Kingdom',\n",
    "                            'Canada']]\n",
    "\n",
    "print('MEAN for money per month by country:')\n",
    "print(countries_mean['MoneyPerMonth'][['United States of America',\n",
    "                            'India', 'United Kingdom',\n",
    "                            'Canada']])\n",
    "\n",
    "# Median sum of money spent by students each month\n",
    "countries_median = fcc.groupby('CountryLive').median()\n",
    "countries_median['MoneyPerMonth'][['United States of America',\n",
    "                            'India', 'United Kingdom',\n",
    "                            'Canada']]\n",
    "\n",
    "print('\\nMEDIAN for money per month by country:')\n",
    "print(countries_median['MoneyPerMonth'][['United States of America',\n",
    "                            'India', 'United Kingdom',\n",
    "                            'Canada']])"
   ]
  },
  {
   "cell_type": "markdown",
   "metadata": {},
   "source": [
    "It seems like people in India are willing to spend more on learning than UK or Canada which could be the result of having a much larger number of people who want to learn programming. The median tells us that most people would like to learn for free with the exception of USA. The median of 3.33 might indicate the presence of some outliers as one would expect the tendency to learn for free to hold also for the US market. We can confirm these numbers by looking at the number of people willing to spend in each market:"
   ]
  },
  {
   "cell_type": "code",
   "execution_count": 13,
   "metadata": {},
   "outputs": [
    {
     "name": "stdout",
     "output_type": "stream",
     "text": [
      "Potential clients:\t  6212\n",
      "Potential clients willing to pay: 3172 \n",
      "\n",
      "                          Absolute frequency  Relative frequency\n",
      "United States of America                1619           51.040353\n",
      "India                                    201            6.336696\n",
      "United Kingdom                           137            4.319042\n",
      "Canada                                   114            3.593947\n"
     ]
    },
    {
     "data": {
      "image/png": "[encoded data removed]",
      "text/plain": [
       "<Figure size 720x216 with 1 Axes>"
      ]
     },
     "metadata": {},
     "output_type": "display_data"
    }
   ],
   "source": [
    "print('Potential clients:\\t ', len(fcc))\n",
    "\n",
    "# Considering only the respondents who paid for their learning\n",
    "fcc_exp = fcc[fcc['MoneyPerMonth']>0.0].copy()\n",
    "\n",
    "print('Potential clients willing to pay:', len(fcc_exp), '\\n')\n",
    "\n",
    "# Creating a frequency table of potential customers ready to pay   \n",
    "freq_table_countries = create_freq_table(df=fcc_exp, column='CountryLive')\n",
    "print(freq_table_countries.iloc[:4,:])\n",
    "\n",
    "# Plotting the TOP4 countries\n",
    "top_4 = freq_table_countries['Relative frequency'].iloc[:4].sort_values()\n",
    "create_stem_plot(height=3,\n",
    "                 series=top_4,\n",
    "                 title='TOP 4 countries by willingness to spend',\n",
    "                 x_max=55)"
   ]
  },
  {
   "cell_type": "markdown",
   "metadata": {},
   "source": [
    "As seen, half of the US market is to willing to spend money for online learning which confirms them as the best market for advertising. However, we still need to deal with the outliers to increase the accuracy of our results."
   ]
  },
  {
   "cell_type": "markdown",
   "metadata": {},
   "source": [
    "## Dealing with Extreme Outliers"
   ]
  },
  {
   "cell_type": "markdown",
   "metadata": {},
   "source": [
    "We can check the outliers by creating a box plot for the Top 4 countries:"
   ]
  },
  {
   "cell_type": "code",
   "execution_count": 14,
   "metadata": {},
   "outputs": [
    {
     "data": {
      "image/png": "[encoded data removed]",
      "text/plain": [
       "<Figure size 432x288 with 1 Axes>"
      ]
     },
     "metadata": {},
     "output_type": "display_data"
    }
   ],
   "source": [
    "# Isolate only the countries of interest\n",
    "top_4 = fcc[fcc['CountryLive'].str.contains(\n",
    "    'United States of America|India|United Kingdom|Canada')]\n",
    "\n",
    "# Box plots to visualize distributions\n",
    "import seaborn as sns\n",
    "sns.boxplot(y = 'MoneyPerMonth', x = 'CountryLive',\n",
    "            data = top_4)\n",
    "plt.title('Money Spent Per Month Per Country',\n",
    "         fontsize = 16)\n",
    "plt.ylabel('Money per month [USD]')\n",
    "plt.xlabel('Country')\n",
    "plt.xticks(range(4), ['US', 'UK', 'India', 'Canada']) # avoids tick labels overlap\n",
    "plt.show()"
   ]
  },
  {
   "cell_type": "markdown",
   "metadata": {},
   "source": [
    "We can see that there are to people that supposedly spend more than \\\\$20k each month for learning which is extremely unlikely. So we can remove every value that goes over \\\\$20,000 per month and compute mean/median values:"
   ]
  },
  {
   "cell_type": "code",
   "execution_count": 15,
   "metadata": {},
   "outputs": [
    {
     "name": "stdout",
     "output_type": "stream",
     "text": [
      "MEAN for money per month by country:\n",
      "CountryLive\n",
      "United States of America    183.800110\n",
      "India                       135.100982\n",
      "United Kingdom               45.534443\n",
      "Canada                      113.510961\n",
      "Name: MoneyPerMonth, dtype: float64\n",
      "\n",
      "MEDIAN for money per month by country:\n",
      "CountryLive\n",
      "United States of America    3.333333\n",
      "India                       0.000000\n",
      "United Kingdom              0.000000\n",
      "Canada                      0.000000\n",
      "Name: MoneyPerMonth, dtype: float64\n"
     ]
    }
   ],
   "source": [
    "# Isolate for less than 20k per month\n",
    "fcc = fcc[fcc['MoneyPerMonth'] < 20000]\n",
    "\n",
    "# Mean sum of money spent by students each month\n",
    "countries_mean = fcc.groupby('CountryLive').mean()\n",
    "countries_mean['MoneyPerMonth'][['United States of America',\n",
    "                            'India', 'United Kingdom',\n",
    "                            'Canada']]\n",
    "\n",
    "print('MEAN for money per month by country:')\n",
    "print(countries_mean['MoneyPerMonth'][['United States of America',\n",
    "                            'India', 'United Kingdom',\n",
    "                            'Canada']])\n",
    "\n",
    "# Median sum of money spent by students each month\n",
    "countries_median = fcc.groupby('CountryLive').median()\n",
    "countries_median['MoneyPerMonth'][['United States of America',\n",
    "                            'India', 'United Kingdom',\n",
    "                            'Canada']]\n",
    "\n",
    "print('\\nMEDIAN for money per month by country:')\n",
    "print(countries_median['MoneyPerMonth'][['United States of America',\n",
    "                            'India', 'United Kingdom',\n",
    "                            'Canada']])"
   ]
  },
  {
   "cell_type": "markdown",
   "metadata": {},
   "source": [
    "As seen, the averages for India and Canada still seem too high when compared to the US. So we can check if we can identify more outliers for these countries:"
   ]
  },
  {
   "cell_type": "code",
   "execution_count": 16,
   "metadata": {},
   "outputs": [
    {
     "data": {
      "image/png": "[encoded data removed]",
      "text/plain": [
       "<Figure size 432x288 with 1 Axes>"
      ]
     },
     "metadata": {},
     "output_type": "display_data"
    }
   ],
   "source": [
    "# Isolate only the countries of interest\n",
    "top_4 = fcc[fcc['CountryLive'].str.contains(\n",
    "    'United States of America|India|United Kingdom|Canada')]\n",
    "\n",
    "# Box plots to visualize distributions\n",
    "import seaborn as sns\n",
    "sns.boxplot(y = 'MoneyPerMonth', x = 'CountryLive',\n",
    "            data = top_4)\n",
    "plt.title('Money Spent Per Month Per Country',\n",
    "         fontsize = 16)\n",
    "plt.ylabel('Money per month [USD]')\n",
    "plt.xlabel('Country')\n",
    "plt.xticks(range(4), ['US', 'UK', 'India', 'Canada']) # avoids tick labels overlap\n",
    "plt.show()"
   ]
  },
  {
   "cell_type": "markdown",
   "metadata": {},
   "source": [
    "We can see a few extreme outliers for India (values over \\$2500 per month), but it's hard to identify if these people can be eliminated without examining in more detail since there are really expensive bootcamps. "
   ]
  },
  {
   "cell_type": "code",
   "execution_count": 17,
   "metadata": {},
   "outputs": [
    {
     "data": {
      "text/html": [
       "<div>\n",
       "<style scoped>\n",
       "    .dataframe tbody tr th:only-of-type {\n",
       "        vertical-align: middle;\n",
       "    }\n",
       "\n",
       "    .dataframe tbody tr th {\n",
       "        vertical-align: top;\n",
       "    }\n",
       "\n",
       "    .dataframe thead th {\n",
       "        text-align: right;\n",
       "    }\n",
       "</style>\n",
       "<table border=\"1\" class=\"dataframe\">\n",
       "  <thead>\n",
       "    <tr style=\"text-align: right;\">\n",
       "      <th></th>\n",
       "      <th>Age</th>\n",
       "      <th>AttendedBootcamp</th>\n",
       "      <th>CountryCitizen</th>\n",
       "      <th>CountryLive</th>\n",
       "      <th>EmploymentField</th>\n",
       "      <th>EmploymentStatus</th>\n",
       "      <th>Gender</th>\n",
       "      <th>HasChildren</th>\n",
       "      <th>HasDebt</th>\n",
       "      <th>HasFinancialDependents</th>\n",
       "      <th>...</th>\n",
       "      <th>HasStudentDebt</th>\n",
       "      <th>HoursLearning</th>\n",
       "      <th>Income</th>\n",
       "      <th>JobRoleInterest</th>\n",
       "      <th>MaritalStatus</th>\n",
       "      <th>MoneyForLearning</th>\n",
       "      <th>MonthsProgramming</th>\n",
       "      <th>SchoolDegree</th>\n",
       "      <th>SchoolMajor</th>\n",
       "      <th>MoneyPerMonth</th>\n",
       "    </tr>\n",
       "  </thead>\n",
       "  <tbody>\n",
       "    <tr>\n",
       "      <th>1728</th>\n",
       "      <td>24.0</td>\n",
       "      <td>0.0</td>\n",
       "      <td>India</td>\n",
       "      <td>India</td>\n",
       "      <td>NaN</td>\n",
       "      <td>A stay-at-home parent or homemaker</td>\n",
       "      <td>male</td>\n",
       "      <td>NaN</td>\n",
       "      <td>0.0</td>\n",
       "      <td>0.0</td>\n",
       "      <td>...</td>\n",
       "      <td>NaN</td>\n",
       "      <td>30.0</td>\n",
       "      <td>NaN</td>\n",
       "      <td>User Experience Designer,   Mobile Developer...</td>\n",
       "      <td>single, never married</td>\n",
       "      <td>20000.0</td>\n",
       "      <td>4.0</td>\n",
       "      <td>bachelor's degree</td>\n",
       "      <td>Computer Programming</td>\n",
       "      <td>5000.000000</td>\n",
       "    </tr>\n",
       "    <tr>\n",
       "      <th>1755</th>\n",
       "      <td>20.0</td>\n",
       "      <td>0.0</td>\n",
       "      <td>India</td>\n",
       "      <td>India</td>\n",
       "      <td>NaN</td>\n",
       "      <td>Not working and not looking for work</td>\n",
       "      <td>male</td>\n",
       "      <td>NaN</td>\n",
       "      <td>0.0</td>\n",
       "      <td>0.0</td>\n",
       "      <td>...</td>\n",
       "      <td>NaN</td>\n",
       "      <td>10.0</td>\n",
       "      <td>NaN</td>\n",
       "      <td>Information Security, Full-Stack Web Developer...</td>\n",
       "      <td>single, never married</td>\n",
       "      <td>50000.0</td>\n",
       "      <td>15.0</td>\n",
       "      <td>bachelor's degree</td>\n",
       "      <td>Computer Science</td>\n",
       "      <td>3333.333333</td>\n",
       "    </tr>\n",
       "    <tr>\n",
       "      <th>7989</th>\n",
       "      <td>28.0</td>\n",
       "      <td>0.0</td>\n",
       "      <td>India</td>\n",
       "      <td>India</td>\n",
       "      <td>software development and IT</td>\n",
       "      <td>Employed for wages</td>\n",
       "      <td>male</td>\n",
       "      <td>0.0</td>\n",
       "      <td>1.0</td>\n",
       "      <td>1.0</td>\n",
       "      <td>...</td>\n",
       "      <td>1.0</td>\n",
       "      <td>20.0</td>\n",
       "      <td>300000.0</td>\n",
       "      <td>User Experience Designer, Back-End Web Devel...</td>\n",
       "      <td>married or domestic partnership</td>\n",
       "      <td>5000.0</td>\n",
       "      <td>1.0</td>\n",
       "      <td>bachelor's degree</td>\n",
       "      <td>Aerospace and Aeronautical Engineering</td>\n",
       "      <td>5000.000000</td>\n",
       "    </tr>\n",
       "    <tr>\n",
       "      <th>8126</th>\n",
       "      <td>22.0</td>\n",
       "      <td>0.0</td>\n",
       "      <td>India</td>\n",
       "      <td>India</td>\n",
       "      <td>NaN</td>\n",
       "      <td>Not working but looking for work</td>\n",
       "      <td>male</td>\n",
       "      <td>NaN</td>\n",
       "      <td>1.0</td>\n",
       "      <td>0.0</td>\n",
       "      <td>...</td>\n",
       "      <td>1.0</td>\n",
       "      <td>80.0</td>\n",
       "      <td>NaN</td>\n",
       "      <td>Back-End Web Developer, Full-Stack Web Develop...</td>\n",
       "      <td>single, never married</td>\n",
       "      <td>5000.0</td>\n",
       "      <td>1.0</td>\n",
       "      <td>bachelor's degree</td>\n",
       "      <td>Electrical and Electronics Engineering</td>\n",
       "      <td>5000.000000</td>\n",
       "    </tr>\n",
       "    <tr>\n",
       "      <th>13398</th>\n",
       "      <td>19.0</td>\n",
       "      <td>0.0</td>\n",
       "      <td>India</td>\n",
       "      <td>India</td>\n",
       "      <td>NaN</td>\n",
       "      <td>Unable to work</td>\n",
       "      <td>male</td>\n",
       "      <td>NaN</td>\n",
       "      <td>0.0</td>\n",
       "      <td>0.0</td>\n",
       "      <td>...</td>\n",
       "      <td>NaN</td>\n",
       "      <td>30.0</td>\n",
       "      <td>NaN</td>\n",
       "      <td>Mobile Developer</td>\n",
       "      <td>single, never married</td>\n",
       "      <td>20000.0</td>\n",
       "      <td>2.0</td>\n",
       "      <td>bachelor's degree</td>\n",
       "      <td>Computer Science</td>\n",
       "      <td>10000.000000</td>\n",
       "    </tr>\n",
       "    <tr>\n",
       "      <th>15587</th>\n",
       "      <td>27.0</td>\n",
       "      <td>0.0</td>\n",
       "      <td>India</td>\n",
       "      <td>India</td>\n",
       "      <td>software development and IT</td>\n",
       "      <td>Employed for wages</td>\n",
       "      <td>male</td>\n",
       "      <td>0.0</td>\n",
       "      <td>1.0</td>\n",
       "      <td>1.0</td>\n",
       "      <td>...</td>\n",
       "      <td>1.0</td>\n",
       "      <td>36.0</td>\n",
       "      <td>60000.0</td>\n",
       "      <td>Full-Stack Web Developer,   Data Scientist</td>\n",
       "      <td>single, never married</td>\n",
       "      <td>100000.0</td>\n",
       "      <td>24.0</td>\n",
       "      <td>bachelor's degree</td>\n",
       "      <td>Communications</td>\n",
       "      <td>4166.666667</td>\n",
       "    </tr>\n",
       "  </tbody>\n",
       "</table>\n",
       "<p>6 rows × 21 columns</p>\n",
       "</div>"
      ],
      "text/plain": [
       "        Age  AttendedBootcamp CountryCitizen CountryLive  \\\n",
       "1728   24.0               0.0          India       India   \n",
       "1755   20.0               0.0          India       India   \n",
       "7989   28.0               0.0          India       India   \n",
       "8126   22.0               0.0          India       India   \n",
       "13398  19.0               0.0          India       India   \n",
       "15587  27.0               0.0          India       India   \n",
       "\n",
       "                   EmploymentField                      EmploymentStatus  \\\n",
       "1728                           NaN    A stay-at-home parent or homemaker   \n",
       "1755                           NaN  Not working and not looking for work   \n",
       "7989   software development and IT                    Employed for wages   \n",
       "8126                           NaN      Not working but looking for work   \n",
       "13398                          NaN                        Unable to work   \n",
       "15587  software development and IT                    Employed for wages   \n",
       "\n",
       "      Gender  HasChildren  HasDebt  HasFinancialDependents  ...  \\\n",
       "1728    male          NaN      0.0                     0.0  ...   \n",
       "1755    male          NaN      0.0                     0.0  ...   \n",
       "7989    male          0.0      1.0                     1.0  ...   \n",
       "8126    male          NaN      1.0                     0.0  ...   \n",
       "13398   male          NaN      0.0                     0.0  ...   \n",
       "15587   male          0.0      1.0                     1.0  ...   \n",
       "\n",
       "       HasStudentDebt  HoursLearning    Income  \\\n",
       "1728              NaN           30.0       NaN   \n",
       "1755              NaN           10.0       NaN   \n",
       "7989              1.0           20.0  300000.0   \n",
       "8126              1.0           80.0       NaN   \n",
       "13398             NaN           30.0       NaN   \n",
       "15587             1.0           36.0   60000.0   \n",
       "\n",
       "                                         JobRoleInterest  \\\n",
       "1728     User Experience Designer,   Mobile Developer...   \n",
       "1755   Information Security, Full-Stack Web Developer...   \n",
       "7989     User Experience Designer, Back-End Web Devel...   \n",
       "8126   Back-End Web Developer, Full-Stack Web Develop...   \n",
       "13398                                   Mobile Developer   \n",
       "15587         Full-Stack Web Developer,   Data Scientist   \n",
       "\n",
       "                         MaritalStatus MoneyForLearning  MonthsProgramming  \\\n",
       "1728             single, never married          20000.0                4.0   \n",
       "1755             single, never married          50000.0               15.0   \n",
       "7989   married or domestic partnership           5000.0                1.0   \n",
       "8126             single, never married           5000.0                1.0   \n",
       "13398            single, never married          20000.0                2.0   \n",
       "15587            single, never married         100000.0               24.0   \n",
       "\n",
       "            SchoolDegree                             SchoolMajor MoneyPerMonth  \n",
       "1728   bachelor's degree                    Computer Programming   5000.000000  \n",
       "1755   bachelor's degree                        Computer Science   3333.333333  \n",
       "7989   bachelor's degree  Aerospace and Aeronautical Engineering   5000.000000  \n",
       "8126   bachelor's degree  Electrical and Electronics Engineering   5000.000000  \n",
       "13398  bachelor's degree                        Computer Science  10000.000000  \n",
       "15587  bachelor's degree                          Communications   4166.666667  \n",
       "\n",
       "[6 rows x 21 columns]"
      ]
     },
     "execution_count": 17,
     "metadata": {},
     "output_type": "execute_result"
    }
   ],
   "source": [
    "# Inspect the extreme outliers for India\n",
    "india_outliers = top_4[(top_4['CountryLive'] == 'India') & (top_4['MoneyPerMonth'] >= 2500)]\n",
    "india_outliers"
   ]
  },
  {
   "cell_type": "markdown",
   "metadata": {},
   "source": [
    "As seen, none of these 6 people have attended a bootcamp. Therefore they might have misunderstood the question of the \"Aside from university tuition, about how much money have you spent on learning to code so far (in US dollars)?\". So we can safely remove these rows:"
   ]
  },
  {
   "cell_type": "code",
   "execution_count": 18,
   "metadata": {},
   "outputs": [],
   "source": [
    "# Remove the outliers for India\n",
    "top_4 = top_4.drop(india_outliers.index) # using the row labels"
   ]
  },
  {
   "cell_type": "code",
   "execution_count": 19,
   "metadata": {},
   "outputs": [
    {
     "data": {
      "text/html": [
       "<div>\n",
       "<style scoped>\n",
       "    .dataframe tbody tr th:only-of-type {\n",
       "        vertical-align: middle;\n",
       "    }\n",
       "\n",
       "    .dataframe tbody tr th {\n",
       "        vertical-align: top;\n",
       "    }\n",
       "\n",
       "    .dataframe thead th {\n",
       "        text-align: right;\n",
       "    }\n",
       "</style>\n",
       "<table border=\"1\" class=\"dataframe\">\n",
       "  <thead>\n",
       "    <tr style=\"text-align: right;\">\n",
       "      <th></th>\n",
       "      <th>Age</th>\n",
       "      <th>AttendedBootcamp</th>\n",
       "      <th>CountryCitizen</th>\n",
       "      <th>CountryLive</th>\n",
       "      <th>EmploymentField</th>\n",
       "      <th>EmploymentStatus</th>\n",
       "      <th>Gender</th>\n",
       "      <th>HasChildren</th>\n",
       "      <th>HasDebt</th>\n",
       "      <th>HasFinancialDependents</th>\n",
       "      <th>...</th>\n",
       "      <th>HasStudentDebt</th>\n",
       "      <th>HoursLearning</th>\n",
       "      <th>Income</th>\n",
       "      <th>JobRoleInterest</th>\n",
       "      <th>MaritalStatus</th>\n",
       "      <th>MoneyForLearning</th>\n",
       "      <th>MonthsProgramming</th>\n",
       "      <th>SchoolDegree</th>\n",
       "      <th>SchoolMajor</th>\n",
       "      <th>MoneyPerMonth</th>\n",
       "    </tr>\n",
       "  </thead>\n",
       "  <tbody>\n",
       "    <tr>\n",
       "      <th>718</th>\n",
       "      <td>26.0</td>\n",
       "      <td>1.0</td>\n",
       "      <td>United States of America</td>\n",
       "      <td>United States of America</td>\n",
       "      <td>architecture or physical engineering</td>\n",
       "      <td>Employed for wages</td>\n",
       "      <td>male</td>\n",
       "      <td>NaN</td>\n",
       "      <td>0.0</td>\n",
       "      <td>0.0</td>\n",
       "      <td>...</td>\n",
       "      <td>NaN</td>\n",
       "      <td>35.0</td>\n",
       "      <td>44500.0</td>\n",
       "      <td>User Experience Designer, Full-Stack Web Dev...</td>\n",
       "      <td>single, never married</td>\n",
       "      <td>8000.0</td>\n",
       "      <td>1.0</td>\n",
       "      <td>bachelor's degree</td>\n",
       "      <td>Architecture</td>\n",
       "      <td>8000.000000</td>\n",
       "    </tr>\n",
       "    <tr>\n",
       "      <th>1222</th>\n",
       "      <td>32.0</td>\n",
       "      <td>1.0</td>\n",
       "      <td>United States of America</td>\n",
       "      <td>United States of America</td>\n",
       "      <td>NaN</td>\n",
       "      <td>Not working and not looking for work</td>\n",
       "      <td>female</td>\n",
       "      <td>NaN</td>\n",
       "      <td>1.0</td>\n",
       "      <td>0.0</td>\n",
       "      <td>...</td>\n",
       "      <td>0.0</td>\n",
       "      <td>50.0</td>\n",
       "      <td>NaN</td>\n",
       "      <td>Front-End Web Developer,   Mobile Developer,...</td>\n",
       "      <td>single, never married</td>\n",
       "      <td>13000.0</td>\n",
       "      <td>2.0</td>\n",
       "      <td>bachelor's degree</td>\n",
       "      <td>Anthropology</td>\n",
       "      <td>6500.000000</td>\n",
       "    </tr>\n",
       "    <tr>\n",
       "      <th>3184</th>\n",
       "      <td>34.0</td>\n",
       "      <td>1.0</td>\n",
       "      <td>NaN</td>\n",
       "      <td>United States of America</td>\n",
       "      <td>software development and IT</td>\n",
       "      <td>Employed for wages</td>\n",
       "      <td>male</td>\n",
       "      <td>NaN</td>\n",
       "      <td>0.0</td>\n",
       "      <td>0.0</td>\n",
       "      <td>...</td>\n",
       "      <td>NaN</td>\n",
       "      <td>10.0</td>\n",
       "      <td>40000.0</td>\n",
       "      <td>Quality Assurance Engineer,   DevOps / SysAd...</td>\n",
       "      <td>single, never married</td>\n",
       "      <td>9000.0</td>\n",
       "      <td>1.0</td>\n",
       "      <td>some college credit, no degree</td>\n",
       "      <td>NaN</td>\n",
       "      <td>9000.000000</td>\n",
       "    </tr>\n",
       "    <tr>\n",
       "      <th>3930</th>\n",
       "      <td>31.0</td>\n",
       "      <td>0.0</td>\n",
       "      <td>United States of America</td>\n",
       "      <td>United States of America</td>\n",
       "      <td>NaN</td>\n",
       "      <td>Not working and not looking for work</td>\n",
       "      <td>male</td>\n",
       "      <td>NaN</td>\n",
       "      <td>1.0</td>\n",
       "      <td>0.0</td>\n",
       "      <td>...</td>\n",
       "      <td>1.0</td>\n",
       "      <td>50.0</td>\n",
       "      <td>NaN</td>\n",
       "      <td>DevOps / SysAdmin,   Front-End Web Developer...</td>\n",
       "      <td>married or domestic partnership</td>\n",
       "      <td>65000.0</td>\n",
       "      <td>6.0</td>\n",
       "      <td>bachelor's degree</td>\n",
       "      <td>Biology</td>\n",
       "      <td>10833.333333</td>\n",
       "    </tr>\n",
       "    <tr>\n",
       "      <th>6805</th>\n",
       "      <td>46.0</td>\n",
       "      <td>1.0</td>\n",
       "      <td>United States of America</td>\n",
       "      <td>United States of America</td>\n",
       "      <td>NaN</td>\n",
       "      <td>Not working but looking for work</td>\n",
       "      <td>male</td>\n",
       "      <td>NaN</td>\n",
       "      <td>1.0</td>\n",
       "      <td>0.0</td>\n",
       "      <td>...</td>\n",
       "      <td>1.0</td>\n",
       "      <td>45.0</td>\n",
       "      <td>NaN</td>\n",
       "      <td>Full-Stack Web Developer, Game Developer,   Pr...</td>\n",
       "      <td>married or domestic partnership</td>\n",
       "      <td>15000.0</td>\n",
       "      <td>1.0</td>\n",
       "      <td>bachelor's degree</td>\n",
       "      <td>Business Administration and Management</td>\n",
       "      <td>15000.000000</td>\n",
       "    </tr>\n",
       "    <tr>\n",
       "      <th>7198</th>\n",
       "      <td>32.0</td>\n",
       "      <td>0.0</td>\n",
       "      <td>United States of America</td>\n",
       "      <td>United States of America</td>\n",
       "      <td>education</td>\n",
       "      <td>Employed for wages</td>\n",
       "      <td>male</td>\n",
       "      <td>NaN</td>\n",
       "      <td>1.0</td>\n",
       "      <td>0.0</td>\n",
       "      <td>...</td>\n",
       "      <td>1.0</td>\n",
       "      <td>4.0</td>\n",
       "      <td>NaN</td>\n",
       "      <td>Full-Stack Web Developer, Back-End Web Developer</td>\n",
       "      <td>single, never married</td>\n",
       "      <td>70000.0</td>\n",
       "      <td>5.0</td>\n",
       "      <td>professional degree (MBA, MD, JD, etc.)</td>\n",
       "      <td>Computer Science</td>\n",
       "      <td>14000.000000</td>\n",
       "    </tr>\n",
       "    <tr>\n",
       "      <th>7505</th>\n",
       "      <td>26.0</td>\n",
       "      <td>1.0</td>\n",
       "      <td>United States of America</td>\n",
       "      <td>United States of America</td>\n",
       "      <td>NaN</td>\n",
       "      <td>Not working but looking for work</td>\n",
       "      <td>male</td>\n",
       "      <td>NaN</td>\n",
       "      <td>1.0</td>\n",
       "      <td>0.0</td>\n",
       "      <td>...</td>\n",
       "      <td>1.0</td>\n",
       "      <td>40.0</td>\n",
       "      <td>NaN</td>\n",
       "      <td>Mobile Developer, Full-Stack Web Developer, ...</td>\n",
       "      <td>single, never married</td>\n",
       "      <td>20000.0</td>\n",
       "      <td>3.0</td>\n",
       "      <td>bachelor's degree</td>\n",
       "      <td>Economics</td>\n",
       "      <td>6666.666667</td>\n",
       "    </tr>\n",
       "    <tr>\n",
       "      <th>9778</th>\n",
       "      <td>33.0</td>\n",
       "      <td>1.0</td>\n",
       "      <td>United States of America</td>\n",
       "      <td>United States of America</td>\n",
       "      <td>education</td>\n",
       "      <td>Employed for wages</td>\n",
       "      <td>male</td>\n",
       "      <td>NaN</td>\n",
       "      <td>1.0</td>\n",
       "      <td>0.0</td>\n",
       "      <td>...</td>\n",
       "      <td>1.0</td>\n",
       "      <td>40.0</td>\n",
       "      <td>20000.0</td>\n",
       "      <td>Full-Stack Web Developer, Data Engineer,   Qua...</td>\n",
       "      <td>single, never married</td>\n",
       "      <td>8000.0</td>\n",
       "      <td>1.0</td>\n",
       "      <td>master's degree (non-professional)</td>\n",
       "      <td>Chemical Engineering</td>\n",
       "      <td>8000.000000</td>\n",
       "    </tr>\n",
       "    <tr>\n",
       "      <th>16650</th>\n",
       "      <td>29.0</td>\n",
       "      <td>0.0</td>\n",
       "      <td>United States of America</td>\n",
       "      <td>United States of America</td>\n",
       "      <td>NaN</td>\n",
       "      <td>Not working but looking for work</td>\n",
       "      <td>male</td>\n",
       "      <td>1.0</td>\n",
       "      <td>1.0</td>\n",
       "      <td>1.0</td>\n",
       "      <td>...</td>\n",
       "      <td>1.0</td>\n",
       "      <td>40.0</td>\n",
       "      <td>NaN</td>\n",
       "      <td>Product Manager, Data Engineer, Full-Stack W...</td>\n",
       "      <td>married or domestic partnership</td>\n",
       "      <td>200000.0</td>\n",
       "      <td>12.0</td>\n",
       "      <td>associate's degree</td>\n",
       "      <td>Computer Programming</td>\n",
       "      <td>16666.666667</td>\n",
       "    </tr>\n",
       "    <tr>\n",
       "      <th>16997</th>\n",
       "      <td>27.0</td>\n",
       "      <td>0.0</td>\n",
       "      <td>United States of America</td>\n",
       "      <td>United States of America</td>\n",
       "      <td>health care</td>\n",
       "      <td>Employed for wages</td>\n",
       "      <td>female</td>\n",
       "      <td>1.0</td>\n",
       "      <td>1.0</td>\n",
       "      <td>1.0</td>\n",
       "      <td>...</td>\n",
       "      <td>1.0</td>\n",
       "      <td>12.0</td>\n",
       "      <td>40000.0</td>\n",
       "      <td>Mobile Developer, Game Developer,   User Exp...</td>\n",
       "      <td>single, never married</td>\n",
       "      <td>12500.0</td>\n",
       "      <td>1.0</td>\n",
       "      <td>some college credit, no degree</td>\n",
       "      <td>NaN</td>\n",
       "      <td>12500.000000</td>\n",
       "    </tr>\n",
       "    <tr>\n",
       "      <th>17231</th>\n",
       "      <td>50.0</td>\n",
       "      <td>0.0</td>\n",
       "      <td>Kenya</td>\n",
       "      <td>United States of America</td>\n",
       "      <td>NaN</td>\n",
       "      <td>Not working but looking for work</td>\n",
       "      <td>female</td>\n",
       "      <td>1.0</td>\n",
       "      <td>0.0</td>\n",
       "      <td>1.0</td>\n",
       "      <td>...</td>\n",
       "      <td>NaN</td>\n",
       "      <td>1.0</td>\n",
       "      <td>NaN</td>\n",
       "      <td>Front-End Web Developer</td>\n",
       "      <td>married or domestic partnership</td>\n",
       "      <td>30000.0</td>\n",
       "      <td>2.0</td>\n",
       "      <td>bachelor's degree</td>\n",
       "      <td>Computer Programming</td>\n",
       "      <td>15000.000000</td>\n",
       "    </tr>\n",
       "  </tbody>\n",
       "</table>\n",
       "<p>11 rows × 21 columns</p>\n",
       "</div>"
      ],
      "text/plain": [
       "        Age  AttendedBootcamp            CountryCitizen  \\\n",
       "718    26.0               1.0  United States of America   \n",
       "1222   32.0               1.0  United States of America   \n",
       "3184   34.0               1.0                       NaN   \n",
       "3930   31.0               0.0  United States of America   \n",
       "6805   46.0               1.0  United States of America   \n",
       "7198   32.0               0.0  United States of America   \n",
       "7505   26.0               1.0  United States of America   \n",
       "9778   33.0               1.0  United States of America   \n",
       "16650  29.0               0.0  United States of America   \n",
       "16997  27.0               0.0  United States of America   \n",
       "17231  50.0               0.0                     Kenya   \n",
       "\n",
       "                    CountryLive                       EmploymentField  \\\n",
       "718    United States of America  architecture or physical engineering   \n",
       "1222   United States of America                                   NaN   \n",
       "3184   United States of America           software development and IT   \n",
       "3930   United States of America                                   NaN   \n",
       "6805   United States of America                                   NaN   \n",
       "7198   United States of America                             education   \n",
       "7505   United States of America                                   NaN   \n",
       "9778   United States of America                             education   \n",
       "16650  United States of America                                   NaN   \n",
       "16997  United States of America                           health care   \n",
       "17231  United States of America                                   NaN   \n",
       "\n",
       "                           EmploymentStatus  Gender  HasChildren  HasDebt  \\\n",
       "718                      Employed for wages    male          NaN      0.0   \n",
       "1222   Not working and not looking for work  female          NaN      1.0   \n",
       "3184                     Employed for wages    male          NaN      0.0   \n",
       "3930   Not working and not looking for work    male          NaN      1.0   \n",
       "6805       Not working but looking for work    male          NaN      1.0   \n",
       "7198                     Employed for wages    male          NaN      1.0   \n",
       "7505       Not working but looking for work    male          NaN      1.0   \n",
       "9778                     Employed for wages    male          NaN      1.0   \n",
       "16650      Not working but looking for work    male          1.0      1.0   \n",
       "16997                    Employed for wages  female          1.0      1.0   \n",
       "17231      Not working but looking for work  female          1.0      0.0   \n",
       "\n",
       "       HasFinancialDependents  ...  HasStudentDebt  HoursLearning   Income  \\\n",
       "718                       0.0  ...             NaN           35.0  44500.0   \n",
       "1222                      0.0  ...             0.0           50.0      NaN   \n",
       "3184                      0.0  ...             NaN           10.0  40000.0   \n",
       "3930                      0.0  ...             1.0           50.0      NaN   \n",
       "6805                      0.0  ...             1.0           45.0      NaN   \n",
       "7198                      0.0  ...             1.0            4.0      NaN   \n",
       "7505                      0.0  ...             1.0           40.0      NaN   \n",
       "9778                      0.0  ...             1.0           40.0  20000.0   \n",
       "16650                     1.0  ...             1.0           40.0      NaN   \n",
       "16997                     1.0  ...             1.0           12.0  40000.0   \n",
       "17231                     1.0  ...             NaN            1.0      NaN   \n",
       "\n",
       "                                         JobRoleInterest  \\\n",
       "718      User Experience Designer, Full-Stack Web Dev...   \n",
       "1222     Front-End Web Developer,   Mobile Developer,...   \n",
       "3184     Quality Assurance Engineer,   DevOps / SysAd...   \n",
       "3930     DevOps / SysAdmin,   Front-End Web Developer...   \n",
       "6805   Full-Stack Web Developer, Game Developer,   Pr...   \n",
       "7198    Full-Stack Web Developer, Back-End Web Developer   \n",
       "7505     Mobile Developer, Full-Stack Web Developer, ...   \n",
       "9778   Full-Stack Web Developer, Data Engineer,   Qua...   \n",
       "16650    Product Manager, Data Engineer, Full-Stack W...   \n",
       "16997    Mobile Developer, Game Developer,   User Exp...   \n",
       "17231                            Front-End Web Developer   \n",
       "\n",
       "                         MaritalStatus MoneyForLearning  MonthsProgramming  \\\n",
       "718              single, never married           8000.0                1.0   \n",
       "1222             single, never married          13000.0                2.0   \n",
       "3184             single, never married           9000.0                1.0   \n",
       "3930   married or domestic partnership          65000.0                6.0   \n",
       "6805   married or domestic partnership          15000.0                1.0   \n",
       "7198             single, never married          70000.0                5.0   \n",
       "7505             single, never married          20000.0                3.0   \n",
       "9778             single, never married           8000.0                1.0   \n",
       "16650  married or domestic partnership         200000.0               12.0   \n",
       "16997            single, never married          12500.0                1.0   \n",
       "17231  married or domestic partnership          30000.0                2.0   \n",
       "\n",
       "                                  SchoolDegree  \\\n",
       "718                          bachelor's degree   \n",
       "1222                         bachelor's degree   \n",
       "3184            some college credit, no degree   \n",
       "3930                         bachelor's degree   \n",
       "6805                         bachelor's degree   \n",
       "7198   professional degree (MBA, MD, JD, etc.)   \n",
       "7505                         bachelor's degree   \n",
       "9778        master's degree (non-professional)   \n",
       "16650                       associate's degree   \n",
       "16997           some college credit, no degree   \n",
       "17231                        bachelor's degree   \n",
       "\n",
       "                                  SchoolMajor MoneyPerMonth  \n",
       "718                              Architecture   8000.000000  \n",
       "1222                             Anthropology   6500.000000  \n",
       "3184                                      NaN   9000.000000  \n",
       "3930                                  Biology  10833.333333  \n",
       "6805   Business Administration and Management  15000.000000  \n",
       "7198                         Computer Science  14000.000000  \n",
       "7505                                Economics   6666.666667  \n",
       "9778                     Chemical Engineering   8000.000000  \n",
       "16650                    Computer Programming  16666.666667  \n",
       "16997                                     NaN  12500.000000  \n",
       "17231                    Computer Programming  15000.000000  \n",
       "\n",
       "[11 rows x 21 columns]"
      ]
     },
     "execution_count": 19,
     "metadata": {},
     "output_type": "execute_result"
    }
   ],
   "source": [
    "# Examine the extreme outliers for the US\n",
    "us_outliers = top_4[(top_4['CountryLive'] == 'United States of America') & (top_4['MoneyPerMonth'] >= 6000)]\n",
    "\n",
    "us_outliers"
   ]
  },
  {
   "cell_type": "markdown",
   "metadata": {},
   "source": [
    "Out of these 11 extreme outliers, we can remove those rows where participants reported thay they spend \\$6000 each month, but they have never attended a bootcamp. We can also see that eight of them had been programming for no more than three months when they completed the survey meaning the large amount of money gets divided by small number of months resulting in a very large monthly spending. Therefore we can remove those who never attended a bootcamp or had been programming for three months or less:"
   ]
  },
  {
   "cell_type": "code",
   "execution_count": 20,
   "metadata": {},
   "outputs": [],
   "source": [
    "# Remove the people who didn't attend a bootcamp\n",
    "no_bootcamp = top_4[\n",
    "    (top_4['CountryLive'] == 'United States of America') & \n",
    "    (top_4['MoneyPerMonth'] >= 6000) &\n",
    "    (top_4['AttendedBootcamp'] == 0)\n",
    "]\n",
    "\n",
    "top_4 = top_4.drop(no_bootcamp.index)\n",
    "\n",
    "# Remove the people that had been programming for less than 3 months\n",
    "less_than_3_months = top_4[\n",
    "    (top_4['CountryLive'] == 'United States of America') & \n",
    "    (top_4['MoneyPerMonth'] >= 6000) &\n",
    "    (top_4['MonthsProgramming'] <= 3)\n",
    "]\n",
    "\n",
    "top_4 = top_4.drop(less_than_3_months.index)"
   ]
  },
  {
   "cell_type": "code",
   "execution_count": 21,
   "metadata": {},
   "outputs": [],
   "source": [
    "# Examine the extreme outliers for Canada\n",
    "canada_outliers = top_4[\n",
    "    (top_4['CountryLive'] == 'Canada') & \n",
    "    (top_4['MoneyPerMonth'] > 4500)]\n",
    "\n",
    "# Remove the extreme outliers for Canada\n",
    "top_4 = top_4.drop(canada_outliers.index)"
   ]
  },
  {
   "cell_type": "markdown",
   "metadata": {},
   "source": [
    "After removing the most extreme outliers, we can look at the average spending per month:"
   ]
  },
  {
   "cell_type": "code",
   "execution_count": 22,
   "metadata": {},
   "outputs": [
    {
     "name": "stdout",
     "output_type": "stream",
     "text": [
      "MEAN for money per month by country:\n",
      "CountryLive\n",
      "United States of America    142.654608\n",
      "India                        65.758763\n",
      "United Kingdom               45.534443\n",
      "Canada                       93.065400\n",
      "Name: MoneyPerMonth, dtype: float64\n"
     ]
    }
   ],
   "source": [
    "countries_mean = top_4.groupby('CountryLive').mean()\n",
    "\n",
    "print('MEAN for money per month by country:')\n",
    "print(countries_mean['MoneyPerMonth'][['United States of America',\n",
    "                            'India', 'United Kingdom',\n",
    "                            'Canada']])"
   ]
  },
  {
   "cell_type": "markdown",
   "metadata": {},
   "source": [
    "As seen, the averages now seem more plausible below 100 USD for Canada and India. If we visualize the distributions again:"
   ]
  },
  {
   "cell_type": "code",
   "execution_count": 23,
   "metadata": {},
   "outputs": [
    {
     "data": {
      "image/png": "[encoded data removed]",
      "text/plain": [
       "<Figure size 432x288 with 1 Axes>"
      ]
     },
     "metadata": {},
     "output_type": "display_data"
    }
   ],
   "source": [
    "import seaborn as sns\n",
    "sns.boxplot(y = 'MoneyPerMonth', x = 'CountryLive',\n",
    "            data = top_4)\n",
    "plt.title('Money Spent Per Month Per Country',\n",
    "         fontsize = 16)\n",
    "plt.ylabel('Money per month [USD]')\n",
    "plt.xlabel('Country')\n",
    "plt.xticks(range(4), ['US', 'UK', 'India', 'Canada']) # avoids tick labels overlap\n",
    "plt.show()"
   ]
  },
  {
   "cell_type": "markdown",
   "metadata": {},
   "source": [
    "## Choosing the Best Markets"
   ]
  },
  {
   "cell_type": "markdown",
   "metadata": {},
   "source": [
    "In addition to the US, we need to identify a 2nd best market for advertising. As seen from the results, the UK customers are willing to spend about \\\\$45 monthly, which is lower than our subscription price of \\\\$59. Therefore, we can eliminate the UK from our discussion.\n",
    "\n",
    "If we look at the number of customers for the countries:"
   ]
  },
  {
   "cell_type": "code",
   "execution_count": 24,
   "metadata": {},
   "outputs": [
    {
     "data": {
      "text/plain": [
       "United States of America    74.967908\n",
       "India                       11.732991\n",
       "United Kingdom               7.163030\n",
       "Canada                       6.136072\n",
       "Name: CountryLive, dtype: float64"
      ]
     },
     "execution_count": 24,
     "metadata": {},
     "output_type": "execute_result"
    }
   ],
   "source": [
    "# Frequency table for the 'CountryLive' column\n",
    "top_4['CountryLive'].value_counts(normalize = True) * 100"
   ]
  },
  {
   "cell_type": "markdown",
   "metadata": {},
   "source": [
    "Although Canada averages \\\\$93 spending monthly (about \\\\$30 more than India), India has almost twice the number of potential customers. Therefore, it might not be advisable to focus on just one of these countries. At this point, it might be best to deliver the results to the marketing team and let them advise on further steps. Maybe they could decide to do some extra surveys in India and Canada specifically to increase the sample size for further analysis.\n",
    "\n",
    "If we were to deliver specific numbers on how to split the advertisement budget, we could suggest the following options:\n",
    "\n",
    "1. Advertise only in the US, which would inevitably peak some Canadian interest as the English-speaking part of Canada is culturally and geographically very close to the US.\n",
    "\n",
    "2. Advertise only in the US and India by splitting the advertisement budget unequally based on the aforementioned factors, i.e. 70% for the US, and 30% for India.\n",
    "\n",
    "3. Advertise in the US, India and Canada by splitting 80% for the USA, 13% for India, and 7% for Canada."
   ]
  },
  {
   "cell_type": "markdown",
   "metadata": {
    "collapsed": true
   },
   "source": [
    "## Conclusions"
   ]
  },
  {
   "cell_type": "markdown",
   "metadata": {},
   "source": [
    "In this project, we looked for the best potential markets for advertising by an e-learning company specialized in programming courses. We concluded that the best market for the advertisement campaign is the US in terms of both potential customers and the spending habits. The second best market would be best decided by the marketing team based on their domain knowledge between India and Canada. However, we laid out 3 different scenarios that could be recommended to the marketing team based on our analysis."
   ]
  }
 ],
 "metadata": {
  "kernelspec": {
   "display_name": "Python 3",
   "language": "python",
   "name": "python3"
  },
  "language_info": {
   "codemirror_mode": {
    "name": "ipython",
    "version": 3
   },
   "file_extension": ".py",
   "mimetype": "text/x-python",
   "name": "python",
   "nbconvert_exporter": "python",
   "pygments_lexer": "ipython3",
   "version": "3.8.8"
  },
  "toc": {
   "nav_menu": {},
   "number_sections": false,
   "sideBar": true,
   "skip_h1_title": false,
   "title_cell": "Table of Contents",
   "title_sidebar": "Contents",
   "toc_cell": false,
   "toc_position": {
    "height": "calc(100% - 180px)",
    "left": "10px",
    "top": "150px",
    "width": "307.2px"
   },
   "toc_section_display": true,
   "toc_window_display": false
  }
 },
 "nbformat": 4,
 "nbformat_minor": 2
}
