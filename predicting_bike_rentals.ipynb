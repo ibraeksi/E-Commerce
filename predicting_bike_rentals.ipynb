{
 "cells": [
  {
   "cell_type": "markdown",
   "metadata": {
    "collapsed": true
   },
   "source": [
    "# Predicting Bike Rentals"
   ]
  },
  {
   "cell_type": "markdown",
   "metadata": {},
   "source": [
    "As the climate crisis gets worse, we should be encouraged to change our habits and look for more sustainable alternatives. One of the most urgent parts of our lives that need a complete overhaul is mobility, especially in urban settings. In recent years, bike sharing has been proven to be a healthy and eco-friendly solution to move within the cities. \n",
    "\n",
    "According to the report \"Bike Sharing Market - Growth, Trends, COVID-19 Impact, and Forecasts (2021 - 2026)\", \"the bike-sharing market was valued at USD 3 billion in 2020 and is anticipated to reach USD 4 billion by 2026, at a CAGR of about 6% during the forecast period (2021 - 2026)\"\n",
    "\n",
    "https://www.globenewswire.com/news-release/2021/07/14/2262611/28124/en/Global-Bike-Sharing-Market-2021-to-2026-Growth-Trends-COVID-19-Impact-and-Forecasts.html"
   ]
  },
  {
   "cell_type": "markdown",
   "metadata": {},
   "source": [
    "In this project, we will use the bike sharing dataset compiled by Hadi Fanaee-T from University of Porto that can be accessed on the UC Irvine website:\n",
    "\n",
    "http://archive.ics.uci.edu/ml/datasets/Bike+Sharing+Dataset\n",
    "\n",
    "The data includes bike rentals in Washington D.C. over a period of time between 2011 and 2012, with each row representing the number of bike rentals for a single hour of a single day. \n",
    "\n",
    "Here are the descriptions for the relevant columns:"
   ]
  },
  {
   "cell_type": "markdown",
   "metadata": {},
   "source": [
    "| Variable | Definition | Key | Notes\n",
    "| :- | :- | :- | :- |\n",
    "| instant | A unique sequential ID number for each row | \n",
    "| dteday | The date of the rentals | \n",
    "| season | The season in which the rentals occurred | 1:winter, 2:spring, 3:summer, 4:fall\t\n",
    "| yr | The year the rentals occurred | 0: 2011, 1:2012 | \n",
    "| mnth | The month the rentals occurred | 1 to 12 | \n",
    "| hr | The hour the rentals occurred | 0 to 23 | \n",
    "| holiday | Whether or not the day was a public holiday | 0: no, 1:yes |\n",
    "| weekday | The day of the week as a number | 0 to 7 |\n",
    "| workingday | Whether or not the day was a working day | 0: weekend or holiday, 1: working day |\n",
    "| weathersit | The weather (as a categorical variable) | 1: Clear, 2: Cloudy/Mist, 3: Light Rain/Snow, 4: Heavy Rain/Snow\n",
    "| temp | Normalized temperature in Celsius | 0 to 1 | t_min=-8, t_max=+39 (only in hourly scale) \n",
    "| atemp | Normalized feeling temperature in Celsius | 0 to 1 | t_min=-16, t_max=+50 (only in hourly scale) \n",
    "| hum |  Normalized humidity | 0 to 1 | The values are divided to 100 (max) \n",
    "| windspeed | Normalized wind speed | 0 to 1 | The values are divided to 67 (max) \n",
    "| casual | The number of casual riders | | people who hadn't previously signed up\n",
    "| registered | The number of registered riders | | people who had already signed up\n",
    "| cnt | The total number of bike rentals | | casual + registered"
   ]
  },
  {
   "cell_type": "markdown",
   "metadata": {},
   "source": [
    "Based on the features, we can try to predict the total number of bikes people rented in a given hour. So our target variable will be 'cnt' which is the addition of casual and registered users, meaning those 2 features need to be ignored in the learning algorithms. "
   ]
  },
  {
   "cell_type": "markdown",
   "metadata": {},
   "source": [
    "## Data Exploration"
   ]
  },
  {
   "cell_type": "code",
   "execution_count": 1,
   "metadata": {},
   "outputs": [
    {
     "data": {
      "text/html": [
       "<div>\n",
       "<style scoped>\n",
       "    .dataframe tbody tr th:only-of-type {\n",
       "        vertical-align: middle;\n",
       "    }\n",
       "\n",
       "    .dataframe tbody tr th {\n",
       "        vertical-align: top;\n",
       "    }\n",
       "\n",
       "    .dataframe thead th {\n",
       "        text-align: right;\n",
       "    }\n",
       "</style>\n",
       "<table border=\"1\" class=\"dataframe\">\n",
       "  <thead>\n",
       "    <tr style=\"text-align: right;\">\n",
       "      <th></th>\n",
       "      <th>instant</th>\n",
       "      <th>dteday</th>\n",
       "      <th>season</th>\n",
       "      <th>yr</th>\n",
       "      <th>mnth</th>\n",
       "      <th>hr</th>\n",
       "      <th>holiday</th>\n",
       "      <th>weekday</th>\n",
       "      <th>workingday</th>\n",
       "      <th>weathersit</th>\n",
       "      <th>temp</th>\n",
       "      <th>atemp</th>\n",
       "      <th>hum</th>\n",
       "      <th>windspeed</th>\n",
       "      <th>casual</th>\n",
       "      <th>registered</th>\n",
       "      <th>cnt</th>\n",
       "    </tr>\n",
       "  </thead>\n",
       "  <tbody>\n",
       "    <tr>\n",
       "      <th>0</th>\n",
       "      <td>1</td>\n",
       "      <td>2011-01-01</td>\n",
       "      <td>1</td>\n",
       "      <td>0</td>\n",
       "      <td>1</td>\n",
       "      <td>0</td>\n",
       "      <td>0</td>\n",
       "      <td>6</td>\n",
       "      <td>0</td>\n",
       "      <td>1</td>\n",
       "      <td>0.24</td>\n",
       "      <td>0.2879</td>\n",
       "      <td>0.81</td>\n",
       "      <td>0.0</td>\n",
       "      <td>3</td>\n",
       "      <td>13</td>\n",
       "      <td>16</td>\n",
       "    </tr>\n",
       "    <tr>\n",
       "      <th>1</th>\n",
       "      <td>2</td>\n",
       "      <td>2011-01-01</td>\n",
       "      <td>1</td>\n",
       "      <td>0</td>\n",
       "      <td>1</td>\n",
       "      <td>1</td>\n",
       "      <td>0</td>\n",
       "      <td>6</td>\n",
       "      <td>0</td>\n",
       "      <td>1</td>\n",
       "      <td>0.22</td>\n",
       "      <td>0.2727</td>\n",
       "      <td>0.80</td>\n",
       "      <td>0.0</td>\n",
       "      <td>8</td>\n",
       "      <td>32</td>\n",
       "      <td>40</td>\n",
       "    </tr>\n",
       "    <tr>\n",
       "      <th>2</th>\n",
       "      <td>3</td>\n",
       "      <td>2011-01-01</td>\n",
       "      <td>1</td>\n",
       "      <td>0</td>\n",
       "      <td>1</td>\n",
       "      <td>2</td>\n",
       "      <td>0</td>\n",
       "      <td>6</td>\n",
       "      <td>0</td>\n",
       "      <td>1</td>\n",
       "      <td>0.22</td>\n",
       "      <td>0.2727</td>\n",
       "      <td>0.80</td>\n",
       "      <td>0.0</td>\n",
       "      <td>5</td>\n",
       "      <td>27</td>\n",
       "      <td>32</td>\n",
       "    </tr>\n",
       "    <tr>\n",
       "      <th>3</th>\n",
       "      <td>4</td>\n",
       "      <td>2011-01-01</td>\n",
       "      <td>1</td>\n",
       "      <td>0</td>\n",
       "      <td>1</td>\n",
       "      <td>3</td>\n",
       "      <td>0</td>\n",
       "      <td>6</td>\n",
       "      <td>0</td>\n",
       "      <td>1</td>\n",
       "      <td>0.24</td>\n",
       "      <td>0.2879</td>\n",
       "      <td>0.75</td>\n",
       "      <td>0.0</td>\n",
       "      <td>3</td>\n",
       "      <td>10</td>\n",
       "      <td>13</td>\n",
       "    </tr>\n",
       "    <tr>\n",
       "      <th>4</th>\n",
       "      <td>5</td>\n",
       "      <td>2011-01-01</td>\n",
       "      <td>1</td>\n",
       "      <td>0</td>\n",
       "      <td>1</td>\n",
       "      <td>4</td>\n",
       "      <td>0</td>\n",
       "      <td>6</td>\n",
       "      <td>0</td>\n",
       "      <td>1</td>\n",
       "      <td>0.24</td>\n",
       "      <td>0.2879</td>\n",
       "      <td>0.75</td>\n",
       "      <td>0.0</td>\n",
       "      <td>0</td>\n",
       "      <td>1</td>\n",
       "      <td>1</td>\n",
       "    </tr>\n",
       "  </tbody>\n",
       "</table>\n",
       "</div>"
      ],
      "text/plain": [
       "   instant      dteday  season  yr  mnth  hr  holiday  weekday  workingday  \\\n",
       "0        1  2011-01-01       1   0     1   0        0        6           0   \n",
       "1        2  2011-01-01       1   0     1   1        0        6           0   \n",
       "2        3  2011-01-01       1   0     1   2        0        6           0   \n",
       "3        4  2011-01-01       1   0     1   3        0        6           0   \n",
       "4        5  2011-01-01       1   0     1   4        0        6           0   \n",
       "\n",
       "   weathersit  temp   atemp   hum  windspeed  casual  registered  cnt  \n",
       "0           1  0.24  0.2879  0.81        0.0       3          13   16  \n",
       "1           1  0.22  0.2727  0.80        0.0       8          32   40  \n",
       "2           1  0.22  0.2727  0.80        0.0       5          27   32  \n",
       "3           1  0.24  0.2879  0.75        0.0       3          10   13  \n",
       "4           1  0.24  0.2879  0.75        0.0       0           1    1  "
      ]
     },
     "execution_count": 1,
     "metadata": {},
     "output_type": "execute_result"
    }
   ],
   "source": [
    "import pandas as pd\n",
    "bike = pd.read_csv('bike_rental_hour.csv')\n",
    "bike.head()"
   ]
  },
  {
   "cell_type": "code",
   "execution_count": 2,
   "metadata": {},
   "outputs": [
    {
     "name": "stdout",
     "output_type": "stream",
     "text": [
      "<class 'pandas.core.frame.DataFrame'>\n",
      "RangeIndex: 17379 entries, 0 to 17378\n",
      "Data columns (total 17 columns):\n",
      " #   Column      Non-Null Count  Dtype  \n",
      "---  ------      --------------  -----  \n",
      " 0   instant     17379 non-null  int64  \n",
      " 1   dteday      17379 non-null  object \n",
      " 2   season      17379 non-null  int64  \n",
      " 3   yr          17379 non-null  int64  \n",
      " 4   mnth        17379 non-null  int64  \n",
      " 5   hr          17379 non-null  int64  \n",
      " 6   holiday     17379 non-null  int64  \n",
      " 7   weekday     17379 non-null  int64  \n",
      " 8   workingday  17379 non-null  int64  \n",
      " 9   weathersit  17379 non-null  int64  \n",
      " 10  temp        17379 non-null  float64\n",
      " 11  atemp       17379 non-null  float64\n",
      " 12  hum         17379 non-null  float64\n",
      " 13  windspeed   17379 non-null  float64\n",
      " 14  casual      17379 non-null  int64  \n",
      " 15  registered  17379 non-null  int64  \n",
      " 16  cnt         17379 non-null  int64  \n",
      "dtypes: float64(4), int64(12), object(1)\n",
      "memory usage: 2.3+ MB\n"
     ]
    }
   ],
   "source": [
    "bike.info()"
   ]
  },
  {
   "cell_type": "markdown",
   "metadata": {},
   "source": [
    "As seen, we have 17379 rows with no missing values. Except for the date feature 'dteday', all of the features are numerical which makes it easier to set up the prediction algorithm. The 'dteday' feature is not required for our current study and therefore can be ignored. Next, we can check the distribution of the target variable 'cnt':"
   ]
  },
  {
   "cell_type": "code",
   "execution_count": 3,
   "metadata": {},
   "outputs": [
    {
     "data": {
      "text/plain": [
       "(array([6972., 3705., 2659., 1660.,  987.,  663.,  369.,  188.,  139.,\n",
       "          37.]),\n",
       " array([  1. ,  98.6, 196.2, 293.8, 391.4, 489. , 586.6, 684.2, 781.8,\n",
       "        879.4, 977. ]),\n",
       " <BarContainer object of 10 artists>)"
      ]
     },
     "execution_count": 3,
     "metadata": {},
     "output_type": "execute_result"
    },
    {
     "data": {
      "image/png": "[encoded data removed]",
      "text/plain": [
       "<Figure size 432x288 with 1 Axes>"
      ]
     },
     "metadata": {
      "needs_background": "light"
     },
     "output_type": "display_data"
    }
   ],
   "source": [
    "%matplotlib inline\n",
    "import matplotlib.pyplot as plt\n",
    "\n",
    "plt.hist(bike['cnt'])"
   ]
  },
  {
   "cell_type": "markdown",
   "metadata": {},
   "source": [
    "As seen, we have a highly right-skewed distribution with most of the days having less than 100 rentals. We can check the correlations between the numerical features: "
   ]
  },
  {
   "cell_type": "code",
   "execution_count": 4,
   "metadata": {},
   "outputs": [
    {
     "name": "stdout",
     "output_type": "stream",
     "text": [
      "weekday       0.026900\n",
      "workingday    0.030284\n",
      "holiday       0.030927\n",
      "windspeed     0.093234\n",
      "mnth          0.120638\n",
      "weathersit    0.142426\n",
      "season        0.178056\n",
      "yr            0.250495\n",
      "instant       0.278379\n",
      "hum           0.322911\n",
      "hr            0.394071\n",
      "atemp         0.400929\n",
      "temp          0.404772\n",
      "casual        0.694564\n",
      "registered    0.972151\n",
      "cnt           1.000000\n",
      "Name: cnt, dtype: float64\n"
     ]
    }
   ],
   "source": [
    "corrmat = bike.corr()\n",
    "sorted_corrs = corrmat['cnt'].abs().sort_values()\n",
    "print(sorted_corrs)"
   ]
  },
  {
   "cell_type": "code",
   "execution_count": 5,
   "metadata": {},
   "outputs": [
    {
     "data": {
      "image/png": "[encoded data removed]",
      "text/plain": [
       "<Figure size 288x288 with 2 Axes>"
      ]
     },
     "metadata": {
      "needs_background": "light"
     },
     "output_type": "display_data"
    }
   ],
   "source": [
    "import seaborn as sns\n",
    "strong_corrs = sorted_corrs[sorted_corrs > 0.3]\n",
    "corrmat = bike[strong_corrs.index].corr()\n",
    "plt.figure(figsize=(4,4))\n",
    "sns.heatmap(corrmat,\n",
    "            vmin=-1,\n",
    "            cmap='coolwarm');"
   ]
  },
  {
   "cell_type": "markdown",
   "metadata": {},
   "source": [
    "As discussed previously, casual and registered need to be ignored as they are already a part of the total count. The highest correlated features seem to be weather-related which makes sense considering people tend to use bikes more willingly in a warm day with no rain. The one exception seems to be the 'hr' parameter with a correlation of 0.39. However, if we look at the description, we can see that hours range from 0 to 23 and it cannot be regarded as a continuous numerical feature. This is also true for the other time features, which need to be converted to categorical features for further analysis."
   ]
  },
  {
   "cell_type": "markdown",
   "metadata": {},
   "source": [
    "## Feature Engineering"
   ]
  },
  {
   "cell_type": "markdown",
   "metadata": {},
   "source": [
    "We can start with the time of day feature by creating a new column with labels for morning, afternoon, evening, and night. The exact hour for when these periods start and end depend on lifestyle and location. Since the data is from Washington DC, we can assume the average sunrise to be around 6 am and sunset to be around 6 pm. Therefore we can divide the day equally in 6 hours:"
   ]
  },
  {
   "cell_type": "code",
   "execution_count": 6,
   "metadata": {},
   "outputs": [
    {
     "data": {
      "text/plain": [
       "2    4375\n",
       "3    4368\n",
       "1    4360\n",
       "4    4276\n",
       "Name: daytime, dtype: int64"
      ]
     },
     "execution_count": 6,
     "metadata": {},
     "output_type": "execute_result"
    }
   ],
   "source": [
    "def assign_label(hour):\n",
    "    if hour >=0 and hour < 6:\n",
    "        return 4\n",
    "    elif hour >=6 and hour < 12:\n",
    "        return 1\n",
    "    elif hour >= 12 and hour < 18:\n",
    "        return 2\n",
    "    elif hour >= 18 and hour <=24:\n",
    "        return 3\n",
    "\n",
    "bike['daytime'] = bike['hr'].apply(assign_label)\n",
    "bike['daytime'].value_counts()"
   ]
  },
  {
   "cell_type": "markdown",
   "metadata": {},
   "source": [
    "As seen, we have a balanced dataset in terms of the bike rentals per time of day. We can look at the updated dataset to determine which features are suitable for converting to categories. Here are the discrete numerical features as a reminder:"
   ]
  },
  {
   "cell_type": "markdown",
   "metadata": {},
   "source": [
    "| Variable | Definition | Key |\n",
    "| :- | :- | :- |\n",
    "| season | The season in which the rentals occurred | 1:winter, 2:spring, 3:summer, 4:fall\t\n",
    "| yr | The year the rentals occurred | 0: 2011, 1:2012 | \n",
    "| mnth | The month the rentals occurred | 1 to 12 | \n",
    "| hr | The hour the rentals occurred | 0 to 23 | \n",
    "| holiday | Whether or not the day was a public holiday | 0: no, 1:yes |\n",
    "| weekday | The day of the week as a number | 0 to 7 |\n",
    "| workingday | Whether or not the day was a working day | 0: weekend or holiday, 1: working day |\n",
    "| weathersit | The weather (as a categorical variable) | 1: Clear, 2: Cloudy/Mist, 3: Light Rain/Snow, 4: Heavy Rain/Snow\n",
    "| daytime | The part of the day | 1:morning, 2:afternoon, 3:evening, 4:night"
   ]
  },
  {
   "cell_type": "markdown",
   "metadata": {},
   "source": [
    "As seen, the month is a part of the season and hour is now part of the daytime. Weekday ranges from 0 to 7, but could be summarized as part of the workingday feature as we can differentiate between when people have to go to work or not. We can now convert these columns into categorical features:"
   ]
  },
  {
   "cell_type": "code",
   "execution_count": 7,
   "metadata": {},
   "outputs": [
    {
     "name": "stdout",
     "output_type": "stream",
     "text": [
      "season: 4 unique values -  [1 2 3 4]\n",
      "workingday: 2 unique values -  [0 1]\n",
      "weathersit: 4 unique values -  [1 2 3 4]\n",
      "daytime: 4 unique values -  [1 2 3 4]\n"
     ]
    }
   ],
   "source": [
    "import numpy as np\n",
    "## Categorical features to be used\n",
    "catcols = ['season', 'workingday', 'weathersit', 'daytime']\n",
    "## Copy the original dataframe\n",
    "modbike = bike.copy()\n",
    "for col in catcols:\n",
    "## Convert into categorical column\n",
    "    modbike[col] = bike[col].astype('category')\n",
    "## Unique values in each categorical column\n",
    "    uniq = np.unique(modbike[col])\n",
    "    print('{}: {} unique values -  {}'.format(col,len(uniq),uniq))"
   ]
  },
  {
   "cell_type": "markdown",
   "metadata": {},
   "source": [
    "Now we can create dummy columns and add back to the dataframe:"
   ]
  },
  {
   "cell_type": "code",
   "execution_count": 8,
   "metadata": {},
   "outputs": [
    {
     "data": {
      "text/html": [
       "<div>\n",
       "<style scoped>\n",
       "    .dataframe tbody tr th:only-of-type {\n",
       "        vertical-align: middle;\n",
       "    }\n",
       "\n",
       "    .dataframe tbody tr th {\n",
       "        vertical-align: top;\n",
       "    }\n",
       "\n",
       "    .dataframe thead th {\n",
       "        text-align: right;\n",
       "    }\n",
       "</style>\n",
       "<table border=\"1\" class=\"dataframe\">\n",
       "  <thead>\n",
       "    <tr style=\"text-align: right;\">\n",
       "      <th></th>\n",
       "      <th>instant</th>\n",
       "      <th>dteday</th>\n",
       "      <th>season</th>\n",
       "      <th>yr</th>\n",
       "      <th>mnth</th>\n",
       "      <th>hr</th>\n",
       "      <th>holiday</th>\n",
       "      <th>weekday</th>\n",
       "      <th>workingday</th>\n",
       "      <th>weathersit</th>\n",
       "      <th>...</th>\n",
       "      <th>workingday_0</th>\n",
       "      <th>workingday_1</th>\n",
       "      <th>weathersit_1</th>\n",
       "      <th>weathersit_2</th>\n",
       "      <th>weathersit_3</th>\n",
       "      <th>weathersit_4</th>\n",
       "      <th>daytime_1</th>\n",
       "      <th>daytime_2</th>\n",
       "      <th>daytime_3</th>\n",
       "      <th>daytime_4</th>\n",
       "    </tr>\n",
       "  </thead>\n",
       "  <tbody>\n",
       "    <tr>\n",
       "      <th>0</th>\n",
       "      <td>1</td>\n",
       "      <td>2011-01-01</td>\n",
       "      <td>1</td>\n",
       "      <td>0</td>\n",
       "      <td>1</td>\n",
       "      <td>0</td>\n",
       "      <td>0</td>\n",
       "      <td>6</td>\n",
       "      <td>0</td>\n",
       "      <td>1</td>\n",
       "      <td>...</td>\n",
       "      <td>1</td>\n",
       "      <td>0</td>\n",
       "      <td>1</td>\n",
       "      <td>0</td>\n",
       "      <td>0</td>\n",
       "      <td>0</td>\n",
       "      <td>0</td>\n",
       "      <td>0</td>\n",
       "      <td>0</td>\n",
       "      <td>1</td>\n",
       "    </tr>\n",
       "    <tr>\n",
       "      <th>1</th>\n",
       "      <td>2</td>\n",
       "      <td>2011-01-01</td>\n",
       "      <td>1</td>\n",
       "      <td>0</td>\n",
       "      <td>1</td>\n",
       "      <td>1</td>\n",
       "      <td>0</td>\n",
       "      <td>6</td>\n",
       "      <td>0</td>\n",
       "      <td>1</td>\n",
       "      <td>...</td>\n",
       "      <td>1</td>\n",
       "      <td>0</td>\n",
       "      <td>1</td>\n",
       "      <td>0</td>\n",
       "      <td>0</td>\n",
       "      <td>0</td>\n",
       "      <td>0</td>\n",
       "      <td>0</td>\n",
       "      <td>0</td>\n",
       "      <td>1</td>\n",
       "    </tr>\n",
       "    <tr>\n",
       "      <th>2</th>\n",
       "      <td>3</td>\n",
       "      <td>2011-01-01</td>\n",
       "      <td>1</td>\n",
       "      <td>0</td>\n",
       "      <td>1</td>\n",
       "      <td>2</td>\n",
       "      <td>0</td>\n",
       "      <td>6</td>\n",
       "      <td>0</td>\n",
       "      <td>1</td>\n",
       "      <td>...</td>\n",
       "      <td>1</td>\n",
       "      <td>0</td>\n",
       "      <td>1</td>\n",
       "      <td>0</td>\n",
       "      <td>0</td>\n",
       "      <td>0</td>\n",
       "      <td>0</td>\n",
       "      <td>0</td>\n",
       "      <td>0</td>\n",
       "      <td>1</td>\n",
       "    </tr>\n",
       "    <tr>\n",
       "      <th>3</th>\n",
       "      <td>4</td>\n",
       "      <td>2011-01-01</td>\n",
       "      <td>1</td>\n",
       "      <td>0</td>\n",
       "      <td>1</td>\n",
       "      <td>3</td>\n",
       "      <td>0</td>\n",
       "      <td>6</td>\n",
       "      <td>0</td>\n",
       "      <td>1</td>\n",
       "      <td>...</td>\n",
       "      <td>1</td>\n",
       "      <td>0</td>\n",
       "      <td>1</td>\n",
       "      <td>0</td>\n",
       "      <td>0</td>\n",
       "      <td>0</td>\n",
       "      <td>0</td>\n",
       "      <td>0</td>\n",
       "      <td>0</td>\n",
       "      <td>1</td>\n",
       "    </tr>\n",
       "    <tr>\n",
       "      <th>4</th>\n",
       "      <td>5</td>\n",
       "      <td>2011-01-01</td>\n",
       "      <td>1</td>\n",
       "      <td>0</td>\n",
       "      <td>1</td>\n",
       "      <td>4</td>\n",
       "      <td>0</td>\n",
       "      <td>6</td>\n",
       "      <td>0</td>\n",
       "      <td>1</td>\n",
       "      <td>...</td>\n",
       "      <td>1</td>\n",
       "      <td>0</td>\n",
       "      <td>1</td>\n",
       "      <td>0</td>\n",
       "      <td>0</td>\n",
       "      <td>0</td>\n",
       "      <td>0</td>\n",
       "      <td>0</td>\n",
       "      <td>0</td>\n",
       "      <td>1</td>\n",
       "    </tr>\n",
       "  </tbody>\n",
       "</table>\n",
       "<p>5 rows × 32 columns</p>\n",
       "</div>"
      ],
      "text/plain": [
       "   instant      dteday season  yr  mnth  hr  holiday  weekday workingday  \\\n",
       "0        1  2011-01-01      1   0     1   0        0        6          0   \n",
       "1        2  2011-01-01      1   0     1   1        0        6          0   \n",
       "2        3  2011-01-01      1   0     1   2        0        6          0   \n",
       "3        4  2011-01-01      1   0     1   3        0        6          0   \n",
       "4        5  2011-01-01      1   0     1   4        0        6          0   \n",
       "\n",
       "  weathersit  ...  workingday_0  workingday_1  weathersit_1  weathersit_2  \\\n",
       "0          1  ...             1             0             1             0   \n",
       "1          1  ...             1             0             1             0   \n",
       "2          1  ...             1             0             1             0   \n",
       "3          1  ...             1             0             1             0   \n",
       "4          1  ...             1             0             1             0   \n",
       "\n",
       "   weathersit_3  weathersit_4  daytime_1 daytime_2  daytime_3  daytime_4  \n",
       "0             0             0          0         0          0          1  \n",
       "1             0             0          0         0          0          1  \n",
       "2             0             0          0         0          0          1  \n",
       "3             0             0          0         0          0          1  \n",
       "4             0             0          0         0          0          1  \n",
       "\n",
       "[5 rows x 32 columns]"
      ]
     },
     "execution_count": 8,
     "metadata": {},
     "output_type": "execute_result"
    }
   ],
   "source": [
    "modbike = pd.concat([modbike, pd.get_dummies(modbike[catcols])], axis=1)\n",
    "modbike.head()"
   ]
  },
  {
   "cell_type": "markdown",
   "metadata": {},
   "source": [
    "We can remove the original features to get the final dataframe for the prediction:"
   ]
  },
  {
   "cell_type": "code",
   "execution_count": 9,
   "metadata": {},
   "outputs": [],
   "source": [
    "modbike = modbike.drop(['instant', 'dteday', 'season', 'yr', 'mnth', 'hr', \n",
    "                        'holiday', 'weekday', 'workingday', 'weathersit',\n",
    "                        'casual', 'registered', 'daytime'], axis=1)"
   ]
  },
  {
   "cell_type": "markdown",
   "metadata": {},
   "source": [
    "The modified dataframe:"
   ]
  },
  {
   "cell_type": "code",
   "execution_count": 10,
   "metadata": {},
   "outputs": [
    {
     "name": "stdout",
     "output_type": "stream",
     "text": [
      "<class 'pandas.core.frame.DataFrame'>\n",
      "RangeIndex: 17379 entries, 0 to 17378\n",
      "Data columns (total 19 columns):\n",
      " #   Column        Non-Null Count  Dtype  \n",
      "---  ------        --------------  -----  \n",
      " 0   temp          17379 non-null  float64\n",
      " 1   atemp         17379 non-null  float64\n",
      " 2   hum           17379 non-null  float64\n",
      " 3   windspeed     17379 non-null  float64\n",
      " 4   cnt           17379 non-null  int64  \n",
      " 5   season_1      17379 non-null  uint8  \n",
      " 6   season_2      17379 non-null  uint8  \n",
      " 7   season_3      17379 non-null  uint8  \n",
      " 8   season_4      17379 non-null  uint8  \n",
      " 9   workingday_0  17379 non-null  uint8  \n",
      " 10  workingday_1  17379 non-null  uint8  \n",
      " 11  weathersit_1  17379 non-null  uint8  \n",
      " 12  weathersit_2  17379 non-null  uint8  \n",
      " 13  weathersit_3  17379 non-null  uint8  \n",
      " 14  weathersit_4  17379 non-null  uint8  \n",
      " 15  daytime_1     17379 non-null  uint8  \n",
      " 16  daytime_2     17379 non-null  uint8  \n",
      " 17  daytime_3     17379 non-null  uint8  \n",
      " 18  daytime_4     17379 non-null  uint8  \n",
      "dtypes: float64(4), int64(1), uint8(14)\n",
      "memory usage: 916.6 KB\n"
     ]
    }
   ],
   "source": [
    "modbike.info()"
   ]
  },
  {
   "cell_type": "markdown",
   "metadata": {},
   "source": [
    "## Making Predictions"
   ]
  },
  {
   "cell_type": "markdown",
   "metadata": {},
   "source": [
    "We can start with linear regression to test our dataset and establish a baseline for the error metric. We can choose the mean squared error metric to evaluate our error since it works on continuous numeric data, like the target variable we are trying to predict."
   ]
  },
  {
   "cell_type": "code",
   "execution_count": 11,
   "metadata": {},
   "outputs": [],
   "source": [
    "train = modbike.sample(frac=.8)\n",
    "test = modbike.loc[~modbike.index.isin(train.index)]"
   ]
  },
  {
   "cell_type": "code",
   "execution_count": 12,
   "metadata": {},
   "outputs": [
    {
     "data": {
      "text/plain": [
       "17652.906429804374"
      ]
     },
     "execution_count": 12,
     "metadata": {},
     "output_type": "execute_result"
    }
   ],
   "source": [
    "from sklearn.linear_model import LinearRegression\n",
    "\n",
    "predictors = list(train.columns)\n",
    "predictors.remove('cnt')\n",
    "\n",
    "reg = LinearRegression()\n",
    "\n",
    "reg.fit(train[predictors], train['cnt'])\n",
    "\n",
    "predictions = reg.predict(test[predictors])\n",
    "\n",
    "np.mean((predictions - test['cnt']) ** 2)"
   ]
  },
  {
   "cell_type": "markdown",
   "metadata": {},
   "source": [
    "The error is reasonably high, which may be due to the fact that the data has a few extremely high rental counts, but otherwise mostly low counts as observed in the distribution. Larger errors are penalized more with MSE, which leads to a higher total error. We can use a Decision Tree Algorithm to compare with linear regression:"
   ]
  },
  {
   "cell_type": "code",
   "execution_count": 13,
   "metadata": {},
   "outputs": [
    {
     "data": {
      "text/plain": [
       "17669.078589762034"
      ]
     },
     "execution_count": 13,
     "metadata": {},
     "output_type": "execute_result"
    }
   ],
   "source": [
    "from sklearn.tree import DecisionTreeRegressor\n",
    "\n",
    "reg = DecisionTreeRegressor(min_samples_leaf=5)\n",
    "\n",
    "reg.fit(train[predictors], train['cnt'])\n",
    "\n",
    "predictions = reg.predict(test[predictors])\n",
    "\n",
    "np.mean((predictions - test['cnt']) ** 2)"
   ]
  },
  {
   "cell_type": "markdown",
   "metadata": {},
   "source": [
    "As seen, the accuracy is not improved with the basic decision tree algorithm. Next we can try Random Forest algorithm:"
   ]
  },
  {
   "cell_type": "code",
   "execution_count": 14,
   "metadata": {},
   "outputs": [
    {
     "data": {
      "text/plain": [
       "13583.561384658107"
      ]
     },
     "execution_count": 14,
     "metadata": {},
     "output_type": "execute_result"
    }
   ],
   "source": [
    "from sklearn.ensemble import RandomForestRegressor\n",
    "\n",
    "reg = RandomForestRegressor(min_samples_leaf=5)\n",
    "reg.fit(train[predictors], train['cnt'])\n",
    "predictions = reg.predict(test[predictors])\n",
    "np.mean((predictions - test['cnt']) ** 2)"
   ]
  },
  {
   "cell_type": "markdown",
   "metadata": {},
   "source": [
    "Random forest is an ensemble algorithm that combines the predictions of multiple decision trees to create a more accurate ﬁnal prediction. So as expected, random forest approach removes overfitting to a certain degree and reduces the error. If we plot the actual rentals vs. predictions:"
   ]
  },
  {
   "cell_type": "code",
   "execution_count": 15,
   "metadata": {},
   "outputs": [
    {
     "data": {
      "image/png": "[encoded data removed]",
      "text/plain": [
       "<Figure size 432x288 with 1 Axes>"
      ]
     },
     "metadata": {
      "needs_background": "light"
     },
     "output_type": "display_data"
    }
   ],
   "source": [
    "actual_values = test['cnt']\n",
    "plt.scatter(predictions, actual_values, color='b')\n",
    "plt.axline((0, 0), slope=1, color='r')\n",
    "plt.xlabel('Predicted')\n",
    "plt.ylabel('Actual Rentals')\n",
    "plt.title('Random Forest')\n",
    "plt.xlim(0, 1000)\n",
    "plt.ylim(0, 1000)\n",
    "plt.show()"
   ]
  },
  {
   "cell_type": "markdown",
   "metadata": {},
   "source": [
    "The plot illustrates how large the error is as the predictions deviate from the actual number of rentals. As potential improvement, we could calculate additional features to reduce the error. For example, we are all used to the the apparent temperature reported in our weather apps that combines actual temperature, humidity, and wind speed."
   ]
  },
  {
   "cell_type": "markdown",
   "metadata": {},
   "source": [
    "## Calculate Apparent Temperature"
   ]
  },
  {
   "cell_type": "markdown",
   "metadata": {},
   "source": [
    "The following formula is used to calculate apparent temperature according to https://calculator.academy/apparent-temperature-calculator/\n",
    "\n",
    "AT = Ta + .348*e – .70*ws+.70*(Q/ws+10) – 4.25\n",
    "\n",
    "    AT is the apparent temperature (C)\n",
    "    Ta is the dry bulb temperature (C)\n",
    "    e is the humidity (hPa)\n",
    "    ws is the wind speed (m/s)\n",
    "    Q is the net radiation absorbed per unit of body surface area. "
   ]
  },
  {
   "cell_type": "markdown",
   "metadata": {},
   "source": [
    "Since we don't have any information on the radiation, we can replace Q with 0 to eliminate it. To be able to compare with other error values, we will copy the train and test datasets."
   ]
  },
  {
   "cell_type": "code",
   "execution_count": 16,
   "metadata": {},
   "outputs": [
    {
     "data": {
      "text/plain": [
       "13462.813530050082"
      ]
     },
     "execution_count": 16,
     "metadata": {},
     "output_type": "execute_result"
    }
   ],
   "source": [
    "train_mod = train.copy()\n",
    "test_mod = test.copy()\n",
    "\n",
    "train_mod['app_temp'] = train['atemp'] + (0.348*train['hum'])\n",
    "- (0.7*train['windspeed']) + 2.75\n",
    "\n",
    "test_mod['app_temp'] = test['atemp'] + (0.348*test['hum'])\n",
    "- (0.7*test['windspeed']) + 2.75\n",
    "\n",
    "predictors = list(train_mod.columns)\n",
    "predictors.remove('cnt')\n",
    "\n",
    "reg = RandomForestRegressor(min_samples_leaf=5)\n",
    "reg.fit(train_mod[predictors], train_mod['cnt'])\n",
    "predictions = reg.predict(test_mod[predictors])\n",
    "np.mean((predictions - test_mod['cnt']) ** 2)"
   ]
  },
  {
   "cell_type": "markdown",
   "metadata": {},
   "source": [
    "## Conclusion"
   ]
  },
  {
   "cell_type": "markdown",
   "metadata": {},
   "source": [
    "For the given dataset with continuous numerical data and multiple nonlinear features, the random forest algorithm turned out to be the most accurate algorithm. \n",
    "\n",
    "The additional feature of apparent temperature did not yield a significant increase in accuracy.\n",
    "\n",
    "The model could do better in predicting casual and registered users instead of the number of rentals. So a potential next step could be to turn this into a classification problem."
   ]
  }
 ],
 "metadata": {
  "kernelspec": {
   "display_name": "Python 3",
   "language": "python",
   "name": "python3"
  },
  "language_info": {
   "codemirror_mode": {
    "name": "ipython",
    "version": 3
   },
   "file_extension": ".py",
   "mimetype": "text/x-python",
   "name": "python",
   "nbconvert_exporter": "python",
   "pygments_lexer": "ipython3",
   "version": "3.8.8"
  },
  "toc": {
   "nav_menu": {},
   "number_sections": false,
   "sideBar": true,
   "skip_h1_title": false,
   "title_cell": "Table of Contents",
   "title_sidebar": "Contents",
   "toc_cell": false,
   "toc_position": {},
   "toc_section_display": true,
   "toc_window_display": false
  }
 },
 "nbformat": 4,
 "nbformat_minor": 1
}
